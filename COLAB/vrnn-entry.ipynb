{
  "nbformat": 4,
  "nbformat_minor": 0,
  "metadata": {
    "colab": {
      "name": "vrnn-colab.ipynb",
      "version": "0.3.2",
      "provenance": [],
      "collapsed_sections": [
        "5yg2FKIemu7s",
        "NKddK4uvmu8K",
        "-BV_Xxuwmu8t",
        "9p05sA2imu82",
        "CAaZlmalmu85",
        "mvBMHqSBmu9L",
        "iaqy_24amu9R",
        "9eqPs58Gmu9V",
        "En1pTplHmu9o",
        "sq4bUXlUmu90",
        "5O5BceDtmu-2",
        "NTv8fiLCmu-6",
        "bSruuoY2mu_E",
        "K9o06n5Emu_M",
        "_yzWTooemu_Q",
        "zN26D-VHmu_d",
        "em0U1nWCmu_m",
        "i0kU_bJhmu_4",
        "-HiPwUIdmu_7",
        "AeDMb4OBmu_8",
        "2mf7XnpSmu__",
        "TB91U8eOmvAG",
        "Mt1cGhA4mvAM",
        "DZIegDtNmvAN",
        "HikQwg60mvAP",
        "hbKX_gPymvAY",
        "hZ6T-ezOmvAc",
        "dAbGPpV8mvAf",
        "CSBRdxUTmvAq",
        "66RN2eGSmvAv",
        "ldcySKtnmvAx",
        "y3p8NecMmvBA",
        "599w_4SumvBD",
        "F-xOnJJTmvBG",
        "bH1Ki0ZzmvBQ",
        "12XF8T8lmvBS",
        "-c4wohD8mvBV",
        "UGT0o0IhmvBY",
        "jHLtxmHsmvBZ",
        "m2qSYGMEmvBl"
      ]
    },
    "kernelspec": {
      "name": "python3",
      "display_name": "Python 3"
    },
    "accelerator": "GPU"
  },
  "cells": [
    {
      "metadata": {
        "id": "TRl_rsHcdWhW",
        "colab_type": "text"
      },
      "cell_type": "markdown",
      "source": [
        "# Project initialization"
      ]
    },
    {
      "metadata": {
        "id": "vcBqZnimdnD1",
        "colab_type": "code",
        "colab": {}
      },
      "cell_type": "code",
      "source": [
        "!git clone https://github.com/b73f9/VRNN2018.git &> /dev/null\n",
        "!pip install livelossplot &> /dev/null"
      ],
      "execution_count": 0,
      "outputs": []
    },
    {
      "metadata": {
        "id": "pSDhHHCSduPL",
        "colab_type": "code",
        "colab": {}
      },
      "cell_type": "code",
      "source": [
        "import os\n",
        "os.chdir(\"/content/VRNN2018\")\n",
        "os.makedirs(\"saved_models\", exist_ok=True)"
      ],
      "execution_count": 0,
      "outputs": []
    },
    {
      "metadata": {
        "id": "gPBaYcWKmu7P",
        "colab_type": "code",
        "colab": {}
      },
      "cell_type": "code",
      "source": [
        "%load_ext autoreload\n",
        "%autoreload 2"
      ],
      "execution_count": 0,
      "outputs": []
    },
    {
      "metadata": {
        "id": "-dWhAPvinDhn",
        "colab_type": "text"
      },
      "cell_type": "markdown",
      "source": [
        "-----------------"
      ]
    },
    {
      "metadata": {
        "id": "RA88Xepumu7U",
        "colab_type": "code",
        "colab": {}
      },
      "cell_type": "code",
      "source": [
        "from livelossplot import PlotLossesKeras\n",
        "from keras.callbacks import EarlyStopping, ModelCheckpoint"
      ],
      "execution_count": 0,
      "outputs": []
    },
    {
      "metadata": {
        "id": "5HcoFIYZmu7Y",
        "colab_type": "code",
        "colab": {}
      },
      "cell_type": "code",
      "source": [
        "from pickers import picker_simple, picker_max_min, picker_margin, picker_entropy, picker_ensemble, picker_2max"
      ],
      "execution_count": 0,
      "outputs": []
    },
    {
      "metadata": {
        "id": "TOjZNAbCmu7c",
        "colab_type": "code",
        "colab": {}
      },
      "cell_type": "code",
      "source": [
        "from active_learning import train"
      ],
      "execution_count": 0,
      "outputs": []
    },
    {
      "metadata": {
        "id": "JC79AFLymu7e",
        "colab_type": "code",
        "colab": {}
      },
      "cell_type": "code",
      "source": [
        "from initial_data_strategy import random_strategy, the_closest_in_cluster, the_furthest_in_cluster, middle_in_cluster"
      ],
      "execution_count": 0,
      "outputs": []
    },
    {
      "metadata": {
        "id": "UlL-tkAmmu7h",
        "colab_type": "code",
        "colab": {}
      },
      "cell_type": "code",
      "source": [
        "from utils import create_plot"
      ],
      "execution_count": 0,
      "outputs": []
    },
    {
      "metadata": {
        "id": "VNqQSpylmu7k",
        "colab_type": "code",
        "colab": {}
      },
      "cell_type": "code",
      "source": [
        "metrices_names = [\"Loss\", \"Accuracy\", \"Precission\", \"Recall\", \"F1\"]"
      ],
      "execution_count": 0,
      "outputs": []
    },
    {
      "metadata": {
        "id": "ZhGSaQyimu7o",
        "colab_type": "code",
        "colab": {}
      },
      "cell_type": "code",
      "source": [
        "callbacks=[\n",
        "    PlotLossesKeras(max_cols=3),\n",
        "    EarlyStopping(monitor=\"val_loss\", patience=3)\n",
        "]"
      ],
      "execution_count": 0,
      "outputs": []
    },
    {
      "metadata": {
        "id": "EXRFdICNn-x2",
        "colab_type": "text"
      },
      "cell_type": "markdown",
      "source": [
        "-----------------"
      ]
    },
    {
      "metadata": {
        "id": "5yg2FKIemu7s",
        "colab_type": "text"
      },
      "cell_type": "markdown",
      "source": [
        "# Mnist"
      ]
    },
    {
      "metadata": {
        "id": "EUqsfd7ymu7u",
        "colab_type": "code",
        "colab": {}
      },
      "cell_type": "code",
      "source": [
        "from preprocessing_data import load_mnist_data\n",
        "from models import build_model_mnist"
      ],
      "execution_count": 0,
      "outputs": []
    },
    {
      "metadata": {
        "id": "Vye5NCLymu70",
        "colab_type": "code",
        "colab": {}
      },
      "cell_type": "code",
      "source": [
        "#Get data\n",
        "(x_train, y_train),(x_test, y_test) = load_mnist_data()"
      ],
      "execution_count": 0,
      "outputs": []
    },
    {
      "metadata": {
        "id": "i-nvIHLRmu75",
        "colab_type": "code",
        "colab": {}
      },
      "cell_type": "code",
      "source": [
        "X = (x_train, x_test)\n",
        "Y = (y_train, y_test)"
      ],
      "execution_count": 0,
      "outputs": []
    },
    {
      "metadata": {
        "id": "FihBTCfbmu7-",
        "colab_type": "text"
      },
      "cell_type": "markdown",
      "source": [
        "### Applied model"
      ]
    },
    {
      "metadata": {
        "id": "09ZOikhDmu7_",
        "colab_type": "code",
        "colab": {}
      },
      "cell_type": "code",
      "source": [
        "model = build_model_mnist()\n",
        "model.fit(x=x_train,\n",
        "          y=y_train,\n",
        "          validation_data=[x_test, y_test],\n",
        "          callbacks=callbacks,\n",
        "          epochs=20,\n",
        "          batch_size=128\n",
        "         )"
      ],
      "execution_count": 0,
      "outputs": []
    },
    {
      "metadata": {
        "id": "AMfImJ0Lmu8E",
        "colab_type": "text"
      },
      "cell_type": "markdown",
      "source": [
        "### Initial data: Random"
      ]
    },
    {
      "metadata": {
        "id": "9vSwcQNLmu8H",
        "colab_type": "code",
        "colab": {}
      },
      "cell_type": "code",
      "source": [
        "initial_data_random = random_strategy(x_train, initial_data_size=1000, nb_of_classes=10)"
      ],
      "execution_count": 0,
      "outputs": []
    },
    {
      "metadata": {
        "id": "NKddK4uvmu8K",
        "colab_type": "text"
      },
      "cell_type": "markdown",
      "source": [
        "#### Train"
      ]
    },
    {
      "metadata": {
        "id": "dgwZnAHYmu8M",
        "colab_type": "code",
        "colab": {}
      },
      "cell_type": "code",
      "source": [
        "res11_mnist = train(build_model_mnist, X, Y, picker_simple, initial_data_random,\n",
        "                    metrices_names, model_name=\"res11_mnist\", steps=10)"
      ],
      "execution_count": 0,
      "outputs": []
    },
    {
      "metadata": {
        "id": "EkjnGj4Emu8P",
        "colab_type": "code",
        "colab": {}
      },
      "cell_type": "code",
      "source": [
        "res12_mnist = train(build_model_mnist, X, Y, picker_max_min, initial_data_random,\n",
        "                    metrices_names, model_name=\"res12_mnist\", steps=10)"
      ],
      "execution_count": 0,
      "outputs": []
    },
    {
      "metadata": {
        "id": "COM-MqLJmu8T",
        "colab_type": "code",
        "colab": {}
      },
      "cell_type": "code",
      "source": [
        "res13_mnist = train(build_model_mnist, X, Y, picker_margin, initial_data_random,\n",
        "                    metrices_names, model_name=\"res13_mnist\", steps=10)"
      ],
      "execution_count": 0,
      "outputs": []
    },
    {
      "metadata": {
        "id": "yAVRbjT3mu8Z",
        "colab_type": "code",
        "colab": {}
      },
      "cell_type": "code",
      "source": [
        "res14_mnist = train(build_model_mnist, X, Y, picker_entropy, initial_data_random,\n",
        "                    metrices_names, model_name=\"res14_mnist\", steps=10)"
      ],
      "execution_count": 0,
      "outputs": []
    },
    {
      "metadata": {
        "id": "F8NK21vKmu8j",
        "colab_type": "code",
        "colab": {}
      },
      "cell_type": "code",
      "source": [
        "res15_mnist = train(build_model_mnist, X, Y, picker_ensemble, initial_data_random,\n",
        "                    metrices_names, model_name=\"res15_mnist\", steps=10, is_ensemble=True)"
      ],
      "execution_count": 0,
      "outputs": []
    },
    {
      "metadata": {
        "id": "xHW3Q1Whmu8p",
        "colab_type": "code",
        "colab": {}
      },
      "cell_type": "code",
      "source": [
        "res16_mnist = train(build_model_mnist, X, Y, picker_2max, initial_data_random,\n",
        "                    metrices_names, model_name=\"res16_mnist\", steps=10)"
      ],
      "execution_count": 0,
      "outputs": []
    },
    {
      "metadata": {
        "id": "-BV_Xxuwmu8t",
        "colab_type": "text"
      },
      "cell_type": "markdown",
      "source": [
        "#### Join plot"
      ]
    },
    {
      "metadata": {
        "id": "VT6vjjMbmu8u",
        "colab_type": "code",
        "colab": {}
      },
      "cell_type": "code",
      "source": [
        "results1_mnist = {\n",
        "    \"random\": res11_mnist,\n",
        "    \"max_mix\": res12_mnist,\n",
        "    \"margin\": res13_mnist,\n",
        "    \"entropy\": res14_mnist,\n",
        "    \"ensemble\": res15_mnist\n",
        "}"
      ],
      "execution_count": 0,
      "outputs": []
    },
    {
      "metadata": {
        "id": "QoT6xEJ7mu8y",
        "colab_type": "code",
        "colab": {}
      },
      "cell_type": "code",
      "source": [
        "create_plot(n_cols=3, steps=10, interval=x_train.shape[0]/10, metrices_names=metrices_names, **results1_mnist)"
      ],
      "execution_count": 0,
      "outputs": []
    },
    {
      "metadata": {
        "id": "9p05sA2imu82",
        "colab_type": "text"
      },
      "cell_type": "markdown",
      "source": [
        "### Initial data: The closest in cluster"
      ]
    },
    {
      "metadata": {
        "id": "GUSAWzgYmu82",
        "colab_type": "code",
        "colab": {}
      },
      "cell_type": "code",
      "source": [
        "initial_data_closest = the_closest_in_cluster(x_train, initial_data_size=1000, nb_of_classes=10)"
      ],
      "execution_count": 0,
      "outputs": []
    },
    {
      "metadata": {
        "id": "CAaZlmalmu85",
        "colab_type": "text"
      },
      "cell_type": "markdown",
      "source": [
        "#### Train"
      ]
    },
    {
      "metadata": {
        "id": "B_Jgokspmu85",
        "colab_type": "code",
        "colab": {}
      },
      "cell_type": "code",
      "source": [
        "res21_mnist = train(build_model_mnist, X, Y, picker_simple, initial_data_closest,\n",
        "                    metrices_names, model_name=\"res21_mnist\", steps=10)"
      ],
      "execution_count": 0,
      "outputs": []
    },
    {
      "metadata": {
        "id": "Hmf0wEbxmu88",
        "colab_type": "code",
        "colab": {}
      },
      "cell_type": "code",
      "source": [
        "res22_mnist = train(build_model_mnist, X, Y, picker_max_min, initial_data_closest,\n",
        "                    metrices_names, model_name=\"res22_mnist\", steps=10)"
      ],
      "execution_count": 0,
      "outputs": []
    },
    {
      "metadata": {
        "id": "ZeAsYBVwmu8_",
        "colab_type": "code",
        "colab": {}
      },
      "cell_type": "code",
      "source": [
        "res23_mnist = train(build_model_mnist, X, Y, picker_margin, initial_data_closest,\n",
        "                    metrices_names, model_name=\"res23_mnist\", steps=10)"
      ],
      "execution_count": 0,
      "outputs": []
    },
    {
      "metadata": {
        "id": "HYQzndOCmu9B",
        "colab_type": "code",
        "colab": {}
      },
      "cell_type": "code",
      "source": [
        "res24_mnist = train(build_model_mnist, X, Y, picker_entropy, initial_data_closest,\n",
        "                    metrices_names, model_name=\"res24_mnist\", steps=10)"
      ],
      "execution_count": 0,
      "outputs": []
    },
    {
      "metadata": {
        "id": "TH6BTm-Gmu9E",
        "colab_type": "code",
        "colab": {}
      },
      "cell_type": "code",
      "source": [
        "res25_mnist = train(build_model_mnist, X, Y, picker_ensemble, initial_data_closest,\n",
        "                    metrices_names, model_name=\"res25_mnist\", steps=10, is_ensemble=True)"
      ],
      "execution_count": 0,
      "outputs": []
    },
    {
      "metadata": {
        "id": "wv7-lN-Hmu9I",
        "colab_type": "code",
        "colab": {}
      },
      "cell_type": "code",
      "source": [
        "res26_mnist = train(build_model_mnist, X, Y, picker_2max, initial_data_closest,\n",
        "                    metrices_names, model_name=\"res26_mnist\", steps=10)"
      ],
      "execution_count": 0,
      "outputs": []
    },
    {
      "metadata": {
        "id": "mvBMHqSBmu9L",
        "colab_type": "text"
      },
      "cell_type": "markdown",
      "source": [
        "#### Join plot"
      ]
    },
    {
      "metadata": {
        "id": "0TyqgE2Zmu9L",
        "colab_type": "code",
        "colab": {}
      },
      "cell_type": "code",
      "source": [
        "results2_mnist = {\n",
        "    \"random\": res21_mnist,\n",
        "    \"max_mix\": res22_mnist,\n",
        "    \"margin\": res23_mnist,\n",
        "    \"entropy\": res24_mnist,\n",
        "    \"ensemble\": res25_mnist\n",
        "}"
      ],
      "execution_count": 0,
      "outputs": []
    },
    {
      "metadata": {
        "id": "4SBAia9nmu9P",
        "colab_type": "code",
        "colab": {}
      },
      "cell_type": "code",
      "source": [
        "create_plot(n_cols=3, steps=10, interval=x_train.shape[0]/10, metrices_names=metrices_names, **results2_mnist)"
      ],
      "execution_count": 0,
      "outputs": []
    },
    {
      "metadata": {
        "id": "iaqy_24amu9R",
        "colab_type": "text"
      },
      "cell_type": "markdown",
      "source": [
        "### Initial data: The furthest in cluster"
      ]
    },
    {
      "metadata": {
        "id": "8ejBu6sRmu9T",
        "colab_type": "code",
        "colab": {}
      },
      "cell_type": "code",
      "source": [
        "initial_data_furthest = the_furthest_in_cluster(x_train, initial_data_size=1000, nb_of_classes=10)"
      ],
      "execution_count": 0,
      "outputs": []
    },
    {
      "metadata": {
        "id": "9eqPs58Gmu9V",
        "colab_type": "text"
      },
      "cell_type": "markdown",
      "source": [
        "#### Train"
      ]
    },
    {
      "metadata": {
        "id": "sflXVJljmu9W",
        "colab_type": "code",
        "colab": {}
      },
      "cell_type": "code",
      "source": [
        "res31_mnist = train(build_model_mnist, X, Y, picker_simple, initial_data_furthest,\n",
        "                    metrices_names, model_name=\"res31_mnist\", steps=10)"
      ],
      "execution_count": 0,
      "outputs": []
    },
    {
      "metadata": {
        "id": "hOvRTs7Tmu9Y",
        "colab_type": "code",
        "colab": {}
      },
      "cell_type": "code",
      "source": [
        "res32_mnist = train(build_model_mnist, X, Y, picker_max_min, initial_data_furthest,\n",
        "                    metrices_names, model_name=\"res32_mnist\", steps=10)"
      ],
      "execution_count": 0,
      "outputs": []
    },
    {
      "metadata": {
        "id": "8gI6843gmu9b",
        "colab_type": "code",
        "colab": {}
      },
      "cell_type": "code",
      "source": [
        "res33_mnist = train(build_model_mnist, X, Y, picker_margin, initial_data_furthest,\n",
        "                    metrices_names, model_name=\"res33_mnist\", steps=10)"
      ],
      "execution_count": 0,
      "outputs": []
    },
    {
      "metadata": {
        "id": "rGQha6Fhmu9d",
        "colab_type": "code",
        "colab": {}
      },
      "cell_type": "code",
      "source": [
        "res34_mnist = train(build_model_mnist, X, Y, picker_entropy, initial_data_furthest,\n",
        "                    metrices_names, model_name=\"res34_mnist\", steps=10)"
      ],
      "execution_count": 0,
      "outputs": []
    },
    {
      "metadata": {
        "id": "xoIKHTxkmu9g",
        "colab_type": "code",
        "colab": {}
      },
      "cell_type": "code",
      "source": [
        "res35_mnist = train(build_model_mnist, X, Y, picker_ensemble, initial_data_furthest,\n",
        "                    metrices_names, model_name=\"res35_mnist\", steps=10, is_ensemble=True)"
      ],
      "execution_count": 0,
      "outputs": []
    },
    {
      "metadata": {
        "id": "Elxaj-M1mu9i",
        "colab_type": "code",
        "colab": {}
      },
      "cell_type": "code",
      "source": [
        "res36_mnist = train(build_model_mnist, X, Y, picker_2max, initial_data_furthest,\n",
        "                    metrices_names, model_name=\"res36_mnist\", steps=10)"
      ],
      "execution_count": 0,
      "outputs": []
    },
    {
      "metadata": {
        "id": "En1pTplHmu9o",
        "colab_type": "text"
      },
      "cell_type": "markdown",
      "source": [
        "#### Join plot"
      ]
    },
    {
      "metadata": {
        "id": "6k1B9rUemu9o",
        "colab_type": "code",
        "colab": {}
      },
      "cell_type": "code",
      "source": [
        "results3_mnist = {\n",
        "    \"random\": res31_mnist,\n",
        "    \"max_mix\": res32_mnist,\n",
        "    \"margin\": res33_mnist,\n",
        "    \"entropy\": res34_mnist,\n",
        "    \"ensemble\": res35_mnist\n",
        "}"
      ],
      "execution_count": 0,
      "outputs": []
    },
    {
      "metadata": {
        "id": "N0jxY2ogmu9r",
        "colab_type": "code",
        "colab": {}
      },
      "cell_type": "code",
      "source": [
        "create_plot(n_cols=3, steps=10, interval=x_train.shape[0]/10, metrices_names=metrices_names, **results3_mnist)"
      ],
      "execution_count": 0,
      "outputs": []
    },
    {
      "metadata": {
        "id": "Vb6Lqjqymu9v",
        "colab_type": "text"
      },
      "cell_type": "markdown",
      "source": [
        "### Initial data: Middle in cluster"
      ]
    },
    {
      "metadata": {
        "id": "7i7oXyAhmu9x",
        "colab_type": "code",
        "colab": {}
      },
      "cell_type": "code",
      "source": [
        "initial_data_middle = middle_in_cluster(x_train, initial_data_size=1000, nb_of_classes=10)"
      ],
      "execution_count": 0,
      "outputs": []
    },
    {
      "metadata": {
        "id": "sq4bUXlUmu90",
        "colab_type": "text"
      },
      "cell_type": "markdown",
      "source": [
        "#### Train"
      ]
    },
    {
      "metadata": {
        "id": "jVR9sBc0mu91",
        "colab_type": "code",
        "colab": {}
      },
      "cell_type": "code",
      "source": [
        "res41_mnist = train(build_model_mnist, X, Y, picker_simple, initial_data_middle,\n",
        "                    metrices_names, model_name=\"res41_mnist\", steps=10)"
      ],
      "execution_count": 0,
      "outputs": []
    },
    {
      "metadata": {
        "id": "0_pepEhImu92",
        "colab_type": "code",
        "colab": {}
      },
      "cell_type": "code",
      "source": [
        "res42_mnist = train(build_model_mnist, X, Y, picker_max_min, initial_data_middle,\n",
        "                    metrices_names, model_name=\"res42_mnist\", steps=10)"
      ],
      "execution_count": 0,
      "outputs": []
    },
    {
      "metadata": {
        "id": "DpXdJl0Zmu95",
        "colab_type": "code",
        "colab": {}
      },
      "cell_type": "code",
      "source": [
        "res43_mnist = train(build_model_mnist, X, Y, picker_margin, initial_data_middle,\n",
        "                    metrices_names, model_name=\"res43_mnist\", steps=10)"
      ],
      "execution_count": 0,
      "outputs": []
    },
    {
      "metadata": {
        "id": "E4aIskqimu97",
        "colab_type": "code",
        "colab": {}
      },
      "cell_type": "code",
      "source": [
        "res44_mnist = train(build_model_mnist, X, Y, picker_entropy, initial_data_middle,\n",
        "                    metrices_names, model_name=\"res44_mnist\", steps=10)"
      ],
      "execution_count": 0,
      "outputs": []
    },
    {
      "metadata": {
        "id": "78W3_VLymu99",
        "colab_type": "code",
        "colab": {}
      },
      "cell_type": "code",
      "source": [
        "res45_mnist = train(build_model_mnist, X, Y, picker_ensemble, initial_data_middle,\n",
        "                    metrices_names, model_name=\"res45_mnist\", steps=10, is_ensemble=True)"
      ],
      "execution_count": 0,
      "outputs": []
    },
    {
      "metadata": {
        "id": "z9ZJ6WnVmu-B",
        "colab_type": "code",
        "colab": {}
      },
      "cell_type": "code",
      "source": [
        "res46_mnist = train(build_model_mnist, X, Y, picker_2max, initial_data_middle,\n",
        "                    metrices_names, model_name=\"res46_mnist\", steps=10)"
      ],
      "execution_count": 0,
      "outputs": []
    },
    {
      "metadata": {
        "id": "1PoypJHpmu-D",
        "colab_type": "text"
      },
      "cell_type": "markdown",
      "source": [
        "#### Join plot"
      ]
    },
    {
      "metadata": {
        "id": "vXwxD5fdmu-F",
        "colab_type": "code",
        "colab": {}
      },
      "cell_type": "code",
      "source": [
        "results4_mnist = {\n",
        "    \"random\": res41_mnist,\n",
        "    \"max_mix\": res42_mnist,\n",
        "    \"margin\": res43_mnist,\n",
        "    \"entropy\": res44_mnist,\n",
        "    \"ensemble\": res45_mnist\n",
        "}"
      ],
      "execution_count": 0,
      "outputs": []
    },
    {
      "metadata": {
        "id": "y3HawWxZmu-H",
        "colab_type": "code",
        "colab": {}
      },
      "cell_type": "code",
      "source": [
        "create_plot(n_cols=3, steps=10, interval=x_train.shape[0]/10, metrices_names=metrices_names, **results4_mnist)"
      ],
      "execution_count": 0,
      "outputs": []
    },
    {
      "metadata": {
        "id": "Nn5hmGLzoBb1",
        "colab_type": "text"
      },
      "cell_type": "markdown",
      "source": [
        "------------------------------\n"
      ]
    },
    {
      "metadata": {
        "id": "sLj0EA9rmu-J",
        "colab_type": "text"
      },
      "cell_type": "markdown",
      "source": [
        "# Fashion Mnist"
      ]
    },
    {
      "metadata": {
        "id": "qOScl-bdmu-K",
        "colab_type": "code",
        "colab": {}
      },
      "cell_type": "code",
      "source": [
        "from preprocessing_data import load_fashion_mnist_data\n",
        "from models import build_model_fashion_mnist"
      ],
      "execution_count": 0,
      "outputs": []
    },
    {
      "metadata": {
        "id": "8etWCqaimu-Q",
        "colab_type": "code",
        "colab": {}
      },
      "cell_type": "code",
      "source": [
        "(x_train, y_train),(x_test, y_test) = load_fashion_mnist_data()"
      ],
      "execution_count": 0,
      "outputs": []
    },
    {
      "metadata": {
        "id": "sNY9HnqJmu-V",
        "colab_type": "code",
        "colab": {}
      },
      "cell_type": "code",
      "source": [
        "X = (x_train, x_test)\n",
        "Y = (y_train, y_test)"
      ],
      "execution_count": 0,
      "outputs": []
    },
    {
      "metadata": {
        "id": "gcz2WNCdmu-Y",
        "colab_type": "text"
      },
      "cell_type": "markdown",
      "source": [
        "### Applied model"
      ]
    },
    {
      "metadata": {
        "id": "nF59Hmykmu-a",
        "colab_type": "code",
        "colab": {}
      },
      "cell_type": "code",
      "source": [
        "model = build_model_fashion_mnist()\n",
        "model.fit(x=x_train,\n",
        "          y=y_train,\n",
        "          validation_data=[x_test, y_test],\n",
        "          callbacks=callbacks,\n",
        "          epochs=10,\n",
        "          batch_size=64\n",
        "         )"
      ],
      "execution_count": 0,
      "outputs": []
    },
    {
      "metadata": {
        "id": "xx0q5W5Gmu-e",
        "colab_type": "text"
      },
      "cell_type": "markdown",
      "source": [
        "### Initial data: Random"
      ]
    },
    {
      "metadata": {
        "id": "Cl_fPKvqmu-f",
        "colab_type": "code",
        "colab": {}
      },
      "cell_type": "code",
      "source": [
        "initial_data_random = random_strategy(x_train, initial_data_size=1000, nb_of_classes=10)"
      ],
      "execution_count": 0,
      "outputs": []
    },
    {
      "metadata": {
        "id": "PQ4P8ydFmu-i",
        "colab_type": "text"
      },
      "cell_type": "markdown",
      "source": [
        "#### Train"
      ]
    },
    {
      "metadata": {
        "id": "3ekN7dHYmu-i",
        "colab_type": "code",
        "colab": {}
      },
      "cell_type": "code",
      "source": [
        "res11_fashion_mnist = train(build_model_fashion_mnist, X, Y, picker_simple, initial_data_random,\n",
        "                            metrices_names, model_name=\"res11_fashion_mnist\", steps=10)"
      ],
      "execution_count": 0,
      "outputs": []
    },
    {
      "metadata": {
        "id": "ChTVLMU9mu-l",
        "colab_type": "code",
        "colab": {}
      },
      "cell_type": "code",
      "source": [
        "res12_fashion_mnist = train(build_model_fashion_mnist, X, Y, picker_max_min, initial_data_random,\n",
        "                            metrices_names, model_name=\"res12_fashion_mnist\", steps=10)"
      ],
      "execution_count": 0,
      "outputs": []
    },
    {
      "metadata": {
        "id": "qB2CQxj0mu-m",
        "colab_type": "code",
        "colab": {}
      },
      "cell_type": "code",
      "source": [
        "res13_fashion_mnist = train(build_model_fashion_mnist, X, Y, picker_margin, initial_data_random,\n",
        "                            metrices_names, model_name=\"res13_fashion_mnist\", steps=10)"
      ],
      "execution_count": 0,
      "outputs": []
    },
    {
      "metadata": {
        "id": "-MFgfXnqmu-r",
        "colab_type": "code",
        "colab": {}
      },
      "cell_type": "code",
      "source": [
        "res14_fashion_mnist = train(build_model_fashion_mnist, X, Y, picker_entropy, initial_data_random,\n",
        "                            metrices_names, model_name=\"res14_fashion_mnist\", steps=10)"
      ],
      "execution_count": 0,
      "outputs": []
    },
    {
      "metadata": {
        "id": "iMRhCA7cmu-u",
        "colab_type": "code",
        "colab": {}
      },
      "cell_type": "code",
      "source": [
        "res15_fashion_mnist = train(build_model_fashion_mnist, X, Y, picker_ensemble, initial_data_random, metrices_names,\n",
        "                            metrices_names, model_name=\"res15_fashion_mnist\", steps=10, is_ensemble=True)"
      ],
      "execution_count": 0,
      "outputs": []
    },
    {
      "metadata": {
        "id": "EOIrCc16mu-x",
        "colab_type": "text"
      },
      "cell_type": "markdown",
      "source": [
        "#### Join plot"
      ]
    },
    {
      "metadata": {
        "id": "ZoVLby5bmu-y",
        "colab_type": "code",
        "colab": {}
      },
      "cell_type": "code",
      "source": [
        "results1_fashion_mnist = {\n",
        "    \"random\": res11_fashion_mnist,\n",
        "    \"max_mix\": res12_fashion_mnist,\n",
        "    \"margin\": res13_fashion_mnist,\n",
        "    \"entropy\": res14_fashion_mnist,\n",
        "    \"ensemble\": res15_fashion_mnist\n",
        "}"
      ],
      "execution_count": 0,
      "outputs": []
    },
    {
      "metadata": {
        "id": "rgi8WVn8mu-z",
        "colab_type": "code",
        "colab": {}
      },
      "cell_type": "code",
      "source": [
        "create_plot(n_cols=3, steps=10, interval=x_train.shape[0]/10, metrices_names=metrices_names, **results1_fashion_mnist)"
      ],
      "execution_count": 0,
      "outputs": []
    },
    {
      "metadata": {
        "id": "5O5BceDtmu-2",
        "colab_type": "text"
      },
      "cell_type": "markdown",
      "source": [
        "### Initial data: The closest in cluster"
      ]
    },
    {
      "metadata": {
        "id": "9WCBXx-wmu-3",
        "colab_type": "code",
        "colab": {}
      },
      "cell_type": "code",
      "source": [
        "initial_data_closest = the_closest_in_cluster(x_train, initial_data_size=1000, nb_of_classes=10)"
      ],
      "execution_count": 0,
      "outputs": []
    },
    {
      "metadata": {
        "id": "NTv8fiLCmu-6",
        "colab_type": "text"
      },
      "cell_type": "markdown",
      "source": [
        "#### Train"
      ]
    },
    {
      "metadata": {
        "id": "_3igPEODmu-8",
        "colab_type": "code",
        "colab": {}
      },
      "cell_type": "code",
      "source": [
        "res21_fashion_mnist = train(build_model_fashion_mnist, X, Y, picker_simple, initial_data_closest,\n",
        "                            metrices_names, model_name=\"res21_fashion_mnist\", steps=10)"
      ],
      "execution_count": 0,
      "outputs": []
    },
    {
      "metadata": {
        "id": "osDVxONvmu-9",
        "colab_type": "code",
        "colab": {}
      },
      "cell_type": "code",
      "source": [
        "res22_fashion_mnist = train(build_model_fashion_mnist, X, Y, picker_max_min, initial_data_closest,\n",
        "                            metrices_names, model_name=\"res22_fashion_mnist\", steps=10)"
      ],
      "execution_count": 0,
      "outputs": []
    },
    {
      "metadata": {
        "id": "kilPFFNfmu-_",
        "colab_type": "code",
        "colab": {}
      },
      "cell_type": "code",
      "source": [
        "res23_fashion_mnist = train(build_model_fashion_mnist, X, Y, picker_margin, initial_data_closest,\n",
        "                            metrices_names, model_name=\"res23_fashion_mnist\", steps=10)"
      ],
      "execution_count": 0,
      "outputs": []
    },
    {
      "metadata": {
        "id": "o_-d736imu_B",
        "colab_type": "code",
        "colab": {}
      },
      "cell_type": "code",
      "source": [
        "res24_fashion_mnist = train(build_model_fashion_mnist, X, Y, picker_entropy, initial_data_closest,\n",
        "                            metrices_names, model_name=\"res24_fashion_mnist\", steps=10)"
      ],
      "execution_count": 0,
      "outputs": []
    },
    {
      "metadata": {
        "id": "0jgDyL7Hmu_E",
        "colab_type": "code",
        "colab": {}
      },
      "cell_type": "code",
      "source": [
        "res25_fashion_mnist = train(build_model_fashion_mnist, X, Y, picker_ensemble, initial_data_closest,\n",
        "                            metrices_names, model_name=\"res25_fashion_mnist\", steps=10, is_ensemble=True)"
      ],
      "execution_count": 0,
      "outputs": []
    },
    {
      "metadata": {
        "id": "bSruuoY2mu_E",
        "colab_type": "text"
      },
      "cell_type": "markdown",
      "source": [
        "#### Join plot"
      ]
    },
    {
      "metadata": {
        "id": "HEdaK7Rnmu_G",
        "colab_type": "code",
        "colab": {}
      },
      "cell_type": "code",
      "source": [
        "results2_fashion_mnist = {\n",
        "    \"random\": res21_fashion_mnist,\n",
        "    \"max_mix\": res22_fashion_mnist,\n",
        "    \"margin\": res23_fashion_mnist,\n",
        "    \"entropy\": res24_fashion_mnist,\n",
        "    \"ensemble\": res25_fashion_mnist\n",
        "}"
      ],
      "execution_count": 0,
      "outputs": []
    },
    {
      "metadata": {
        "id": "tF6zv9pTmu_K",
        "colab_type": "code",
        "colab": {}
      },
      "cell_type": "code",
      "source": [
        "create_plot(n_cols=3, steps=10, interval=x_train.shape[0]/10, metrices_names=metrices_names, **results2_fashion_mnist)"
      ],
      "execution_count": 0,
      "outputs": []
    },
    {
      "metadata": {
        "id": "K9o06n5Emu_M",
        "colab_type": "text"
      },
      "cell_type": "markdown",
      "source": [
        "### Initial data: The furthest in cluster"
      ]
    },
    {
      "metadata": {
        "id": "oIJM3Qf3mu_O",
        "colab_type": "code",
        "colab": {}
      },
      "cell_type": "code",
      "source": [
        "initial_data_furthest = the_furthest_in_cluster(x_train, initial_data_size=1000, nb_of_classes=10)"
      ],
      "execution_count": 0,
      "outputs": []
    },
    {
      "metadata": {
        "id": "_yzWTooemu_Q",
        "colab_type": "text"
      },
      "cell_type": "markdown",
      "source": [
        "#### Train"
      ]
    },
    {
      "metadata": {
        "id": "2cHyPLVqmu_R",
        "colab_type": "code",
        "colab": {}
      },
      "cell_type": "code",
      "source": [
        "res31_fashion_mnist = train(build_model_fashion_mnist, X, Y, picker_simple, initial_data_furthest,\n",
        "                            metrices_names, model_name=\"res31_fashion_mnist\", steps=10)"
      ],
      "execution_count": 0,
      "outputs": []
    },
    {
      "metadata": {
        "id": "wVJrSPewmu_T",
        "colab_type": "code",
        "colab": {}
      },
      "cell_type": "code",
      "source": [
        "res32_fashion_mnist = train(build_model_fashion_mnist, X, Y, picker_max_min, initial_data_furthest,\n",
        "                            metrices_names, model_name=\"res32_fashion_mnist\", steps=10)"
      ],
      "execution_count": 0,
      "outputs": []
    },
    {
      "metadata": {
        "id": "T_dwZUyomu_V",
        "colab_type": "code",
        "colab": {}
      },
      "cell_type": "code",
      "source": [
        "res33_fashion_mnist = train(build_model_fashion_mnist, X, Y, picker_margin, initial_data_furthest,\n",
        "                            metrices_names, model_name=\"res33_fashion_mnist\", steps=10)"
      ],
      "execution_count": 0,
      "outputs": []
    },
    {
      "metadata": {
        "id": "fiB0_o0Xmu_X",
        "colab_type": "code",
        "colab": {}
      },
      "cell_type": "code",
      "source": [
        "res34_fashion_mnist = train(build_model_fashion_mnist, X, Y, picker_entropy, initial_data_furthest,\n",
        "                            metrices_names, model_name=\"res34_fashion_mnist\", steps=10)"
      ],
      "execution_count": 0,
      "outputs": []
    },
    {
      "metadata": {
        "id": "ZsDrKaqJmu_Y",
        "colab_type": "code",
        "colab": {}
      },
      "cell_type": "code",
      "source": [
        "res35_fashion_mnist = train(build_model_fashion_mnist, X, Y, picker_ensemble, initial_data_furthest,\n",
        "                            metrices_names, model_name=\"res35_fashion_mnist\", steps=10, is_ensemble=True)"
      ],
      "execution_count": 0,
      "outputs": []
    },
    {
      "metadata": {
        "id": "yXKALgenmu_a",
        "colab_type": "code",
        "colab": {}
      },
      "cell_type": "code",
      "source": [
        "res36_fashion_mnist = train(build_model_fashion_mnist, X, Y, picker_simple, initial_data_furthest,\n",
        "                            metrices_names, model_name=\"res36_fashion_mnist\", steps=10)"
      ],
      "execution_count": 0,
      "outputs": []
    },
    {
      "metadata": {
        "id": "zN26D-VHmu_d",
        "colab_type": "text"
      },
      "cell_type": "markdown",
      "source": [
        "#### Join plot"
      ]
    },
    {
      "metadata": {
        "id": "V6gKyZcJmu_e",
        "colab_type": "code",
        "colab": {}
      },
      "cell_type": "code",
      "source": [
        "results3_fashion_mnist = {\n",
        "    \"random\": res31_fashion_mnist,\n",
        "    \"max_mix\": res32_fashion_mnist,\n",
        "    \"margin\": res33_fashion_mnist,\n",
        "    \"entropy\": res34_fashion_mnist,\n",
        "    \"ensemble\": res35_fashion_mnist\n",
        "}"
      ],
      "execution_count": 0,
      "outputs": []
    },
    {
      "metadata": {
        "id": "MPAmwiKDmu_g",
        "colab_type": "code",
        "colab": {}
      },
      "cell_type": "code",
      "source": [
        "create_plot(n_cols=3, steps=10, interval=x_train.shape[0]/10, metrices_names=metrices_names, **results3_fashion_mnist)"
      ],
      "execution_count": 0,
      "outputs": []
    },
    {
      "metadata": {
        "id": "6bv7fbCQmu_i",
        "colab_type": "text"
      },
      "cell_type": "markdown",
      "source": [
        "### Initial data: Middle in cluster"
      ]
    },
    {
      "metadata": {
        "id": "P1l-b59Amu_i",
        "colab_type": "code",
        "colab": {}
      },
      "cell_type": "code",
      "source": [
        "initial_data_middle = middle_in_cluster(x_train, initial_data_size=1000, nb_of_classes=10)"
      ],
      "execution_count": 0,
      "outputs": []
    },
    {
      "metadata": {
        "id": "em0U1nWCmu_m",
        "colab_type": "text"
      },
      "cell_type": "markdown",
      "source": [
        "#### Train"
      ]
    },
    {
      "metadata": {
        "id": "fog5g2jcmu_o",
        "colab_type": "code",
        "colab": {}
      },
      "cell_type": "code",
      "source": [
        "res41_fashion_mnist = train(build_model_fashion_mnist, X, Y, picker_simple, initial_data_middle,\n",
        "                            metrices_names, model_name=\"res41_fashion_mnist\", steps=10)"
      ],
      "execution_count": 0,
      "outputs": []
    },
    {
      "metadata": {
        "id": "wO4jrOzrmu_r",
        "colab_type": "code",
        "colab": {}
      },
      "cell_type": "code",
      "source": [
        "res42_fashion_mnist = train(build_model_fashion_mnist, X, Y, picker_max_min, initial_data_middle,\n",
        "                            metrices_names, model_name=\"res42_fashion_mnist\", steps=10)"
      ],
      "execution_count": 0,
      "outputs": []
    },
    {
      "metadata": {
        "id": "QRWLlNKSmu_r",
        "colab_type": "code",
        "colab": {}
      },
      "cell_type": "code",
      "source": [
        "res43_fashion_mnist = train(build_model_fashion_mnist, X, Y, picker_margin, initial_data_middle,\n",
        "                            metrices_names, model_name=\"res43_fashion_mnist\", steps=10)"
      ],
      "execution_count": 0,
      "outputs": []
    },
    {
      "metadata": {
        "id": "c5WNRkHCmu_t",
        "colab_type": "code",
        "colab": {}
      },
      "cell_type": "code",
      "source": [
        "res44_fashion_mnist = train(build_model_fashion_mnist, X, Y, picker_entropy, initial_data_middle,\n",
        "                            metrices_names, model_name=\"res44_fashion_mnist\", steps=10)"
      ],
      "execution_count": 0,
      "outputs": []
    },
    {
      "metadata": {
        "id": "7QQ5rBoHmu_v",
        "colab_type": "code",
        "colab": {}
      },
      "cell_type": "code",
      "source": [
        "res45_fashion_mnist = train(build_model_fashion_mnist, X, Y, picker_ensemble, initial_data_middle,\n",
        "                            metrices_names, model_name=\"res45_fashion_mnist\", steps=10, is_ensemble=True)"
      ],
      "execution_count": 0,
      "outputs": []
    },
    {
      "metadata": {
        "id": "KYO7vbV4mu_y",
        "colab_type": "code",
        "colab": {}
      },
      "cell_type": "code",
      "source": [
        "res46_fashion_mnist = train(build_model_fashion_mnist, X, Y, picker_simple, initial_data_middle,\n",
        "                            metrices_names, model_name=\"res46_fashion_mnist\", steps=10)"
      ],
      "execution_count": 0,
      "outputs": []
    },
    {
      "metadata": {
        "id": "VERUZxc6mu_0",
        "colab_type": "text"
      },
      "cell_type": "markdown",
      "source": [
        "#### Join plot"
      ]
    },
    {
      "metadata": {
        "id": "1-Ed3whCmu_1",
        "colab_type": "code",
        "colab": {}
      },
      "cell_type": "code",
      "source": [
        "results4_fashion_mnist = {\n",
        "    \"random\": res41_fashion_mnist,\n",
        "    \"max_mix\": res42_fashion_mnist,\n",
        "    \"margin\": res43_fashion_mnist,\n",
        "    \"entropy\": res44_fashion_mnist,\n",
        "    \"ensemble\": res45_fashion_mnist\n",
        "}"
      ],
      "execution_count": 0,
      "outputs": []
    },
    {
      "metadata": {
        "id": "KgXAbtaumu_2",
        "colab_type": "code",
        "colab": {}
      },
      "cell_type": "code",
      "source": [
        "create_plot(n_cols=3, steps=10, interval=x_train.shape[0]/10, metrices_names=metrices_names, **results4_fashion_mnist)"
      ],
      "execution_count": 0,
      "outputs": []
    },
    {
      "metadata": {
        "id": "iXxDwME5oTW9",
        "colab_type": "text"
      },
      "cell_type": "markdown",
      "source": [
        "---------------"
      ]
    },
    {
      "metadata": {
        "id": "i0kU_bJhmu_4",
        "colab_type": "text"
      },
      "cell_type": "markdown",
      "source": [
        "# Dogs vs Cats"
      ]
    },
    {
      "metadata": {
        "id": "s6aNuLZGmu_5",
        "colab_type": "code",
        "colab": {}
      },
      "cell_type": "code",
      "source": [
        "from preprocessing_data import load_pets_data\n",
        "from models import build_model_pets"
      ],
      "execution_count": 0,
      "outputs": []
    },
    {
      "metadata": {
        "id": "1QWgUszUmu_7",
        "colab_type": "code",
        "colab": {}
      },
      "cell_type": "code",
      "source": [
        "(x_train, y_train),(x_test, y_test) = load_pets_data()"
      ],
      "execution_count": 0,
      "outputs": []
    },
    {
      "metadata": {
        "id": "-HiPwUIdmu_7",
        "colab_type": "text"
      },
      "cell_type": "markdown",
      "source": [
        "### Applied model"
      ]
    },
    {
      "metadata": {
        "id": "_BvOkc6Mmu_8",
        "colab_type": "code",
        "colab": {}
      },
      "cell_type": "code",
      "source": [
        "model = build_model_pets()\n",
        "model.fit(x=x_train,\n",
        "          y=y_train,\n",
        "          validation_data=[x_test, y_test],\n",
        "          callbacks=[PlotLossesKeras(max_cols=3)],\n",
        "          epochs=50,\n",
        "          batch_size=128\n",
        "         )"
      ],
      "execution_count": 0,
      "outputs": []
    },
    {
      "metadata": {
        "id": "AeDMb4OBmu_8",
        "colab_type": "text"
      },
      "cell_type": "markdown",
      "source": [
        "### Initial data: Random"
      ]
    },
    {
      "metadata": {
        "id": "B5qvgTXDmu_9",
        "colab_type": "code",
        "colab": {}
      },
      "cell_type": "code",
      "source": [
        "initial_data_random = random_strategy(x_train, initial_data_size=1000, nb_of_classes=10)"
      ],
      "execution_count": 0,
      "outputs": []
    },
    {
      "metadata": {
        "id": "2mf7XnpSmu__",
        "colab_type": "text"
      },
      "cell_type": "markdown",
      "source": [
        "#### Train"
      ]
    },
    {
      "metadata": {
        "id": "r5u2dIT3mu__",
        "colab_type": "code",
        "colab": {}
      },
      "cell_type": "code",
      "source": [
        "res11_pets = train(build_model_pets, X, Y, picker_simple, metrices_names, steps=10)"
      ],
      "execution_count": 0,
      "outputs": []
    },
    {
      "metadata": {
        "id": "8GSg0v5ZmvAB",
        "colab_type": "code",
        "colab": {}
      },
      "cell_type": "code",
      "source": [
        "res12_pets = train(build_model_pets, X, Y, picker_max_min, metrices_names, steps=10)"
      ],
      "execution_count": 0,
      "outputs": []
    },
    {
      "metadata": {
        "id": "T3ihzE8vmvAB",
        "colab_type": "code",
        "colab": {}
      },
      "cell_type": "code",
      "source": [
        "res13_pets = train(build_model_pets, X, Y, picker_margin, metrices_names, steps=10)"
      ],
      "execution_count": 0,
      "outputs": []
    },
    {
      "metadata": {
        "id": "xytPJ6J5mvAD",
        "colab_type": "code",
        "colab": {}
      },
      "cell_type": "code",
      "source": [
        "res14_pets = train(build_model_pets, X, Y, picker_entropy, metrices_names, steps=10)"
      ],
      "execution_count": 0,
      "outputs": []
    },
    {
      "metadata": {
        "id": "GOjoLirVmvAE",
        "colab_type": "code",
        "colab": {}
      },
      "cell_type": "code",
      "source": [
        "res15_pets = train(build_model_pets, X, Y, picker_ensemble, metrices_names, steps=10, is_ensemble=True)"
      ],
      "execution_count": 0,
      "outputs": []
    },
    {
      "metadata": {
        "id": "TB91U8eOmvAG",
        "colab_type": "text"
      },
      "cell_type": "markdown",
      "source": [
        "# Cifar10"
      ]
    },
    {
      "metadata": {
        "id": "vFcRMHsZmvAH",
        "colab_type": "code",
        "colab": {}
      },
      "cell_type": "code",
      "source": [
        "from preprocessing_data import load_cifar10_data\n",
        "from models import build_model_cifar10"
      ],
      "execution_count": 0,
      "outputs": []
    },
    {
      "metadata": {
        "id": "tX9ho_JfmvAJ",
        "colab_type": "code",
        "colab": {}
      },
      "cell_type": "code",
      "source": [
        "(x_train, y_train),(x_test, y_test) = load_cifar10_data()"
      ],
      "execution_count": 0,
      "outputs": []
    },
    {
      "metadata": {
        "id": "wvnKCSuImvAK",
        "colab_type": "code",
        "colab": {}
      },
      "cell_type": "code",
      "source": [
        "X = (x_train, x_test)\n",
        "Y = (y_train, y_test)"
      ],
      "execution_count": 0,
      "outputs": []
    },
    {
      "metadata": {
        "id": "Mt1cGhA4mvAM",
        "colab_type": "text"
      },
      "cell_type": "markdown",
      "source": [
        "### Applied model"
      ]
    },
    {
      "metadata": {
        "id": "ChDfZMXUmvAM",
        "colab_type": "code",
        "colab": {}
      },
      "cell_type": "code",
      "source": [
        "model = build_model_cifar10()\n",
        "model.fit(x=x_train,\n",
        "          y=y_train,\n",
        "          validation_data=[x_test, y_test],\n",
        "          callbacks=callbacks,\n",
        "          epochs=60,\n",
        "          batch_size=128\n",
        "         )"
      ],
      "execution_count": 0,
      "outputs": []
    },
    {
      "metadata": {
        "id": "DZIegDtNmvAN",
        "colab_type": "text"
      },
      "cell_type": "markdown",
      "source": [
        "### Initial data: Random"
      ]
    },
    {
      "metadata": {
        "id": "ROhbZDm6mvAO",
        "colab_type": "code",
        "colab": {}
      },
      "cell_type": "code",
      "source": [
        "initial_data_random = random_strategy(x_train, initial_data_size=1000, nb_of_classes=10)"
      ],
      "execution_count": 0,
      "outputs": []
    },
    {
      "metadata": {
        "id": "HikQwg60mvAP",
        "colab_type": "text"
      },
      "cell_type": "markdown",
      "source": [
        "#### Train"
      ]
    },
    {
      "metadata": {
        "id": "RrA6PGyZmvAP",
        "colab_type": "code",
        "colab": {}
      },
      "cell_type": "code",
      "source": [
        "res11_cifar10 = train(build_model_cifar10, X, Y, picker_simple, initial_data_random,\n",
        "                      metrices_names, model_name=\"res11_cifar10\", steps=10)"
      ],
      "execution_count": 0,
      "outputs": []
    },
    {
      "metadata": {
        "id": "u3lIfoKPmvAR",
        "colab_type": "code",
        "colab": {}
      },
      "cell_type": "code",
      "source": [
        "res12_cifar10 = train(build_model_cifar10, X, Y, picker_max_min, initial_data_random,\n",
        "                      metrices_names, model_name=\"res12_cifar10\", steps=10)"
      ],
      "execution_count": 0,
      "outputs": []
    },
    {
      "metadata": {
        "id": "NltWDXVGmvAT",
        "colab_type": "code",
        "colab": {}
      },
      "cell_type": "code",
      "source": [
        "res13_cifar10 = train(build_model_cifar10, X, Y, picker_margin, initial_data_random, \n",
        "                      metrices_names, model_name=\"res13_cifar10\", steps=10)"
      ],
      "execution_count": 0,
      "outputs": []
    },
    {
      "metadata": {
        "id": "B953XkAqmvAV",
        "colab_type": "code",
        "colab": {}
      },
      "cell_type": "code",
      "source": [
        "res14_cifar10 = train(build_model_cifar10, X, Y, picker_entropy, initial_data_random,\n",
        "                      metrices_names, model_name=\"res14_cifar10\", steps=10)"
      ],
      "execution_count": 0,
      "outputs": []
    },
    {
      "metadata": {
        "id": "9AdeykdgmvAW",
        "colab_type": "code",
        "colab": {}
      },
      "cell_type": "code",
      "source": [
        "res15_cifar10 = train(build_model_cifar10, X, Y, picker_ensemble, initial_data_random,\n",
        "                      metrices_names, model_name=\"res15_cifar10\", steps=10, is_ensemble=True)"
      ],
      "execution_count": 0,
      "outputs": []
    },
    {
      "metadata": {
        "id": "eyxgbhOCmvAX",
        "colab_type": "code",
        "colab": {}
      },
      "cell_type": "code",
      "source": [
        "res16_cifar10 = train(build_model_cifar10, X, Y, picker_ensemble, initial_data_random,\n",
        "                      metrices_names, model_name=\"res16_cifar10\", steps=10)"
      ],
      "execution_count": 0,
      "outputs": []
    },
    {
      "metadata": {
        "id": "hbKX_gPymvAY",
        "colab_type": "text"
      },
      "cell_type": "markdown",
      "source": [
        "#### Join plot"
      ]
    },
    {
      "metadata": {
        "id": "m48mQC7nmvAZ",
        "colab_type": "code",
        "colab": {}
      },
      "cell_type": "code",
      "source": [
        "results1_cifar10 = {\n",
        "    \"random\": res11_cifar10,\n",
        "    \"max_mix\": res12_cifar10,\n",
        "    \"margin\": res13_cifar10,\n",
        "    \"entropy\": res14_cifar10,\n",
        "    \"ensemble\": res15_cifar10\n",
        "}"
      ],
      "execution_count": 0,
      "outputs": []
    },
    {
      "metadata": {
        "id": "bZyGGfRcmvAa",
        "colab_type": "code",
        "colab": {}
      },
      "cell_type": "code",
      "source": [
        "create_plot(n_cols=3, steps=10, interval=x_train.shape[0]/10, metrices_names=metrices_names, **results1_cifar10)"
      ],
      "execution_count": 0,
      "outputs": []
    },
    {
      "metadata": {
        "id": "hZ6T-ezOmvAc",
        "colab_type": "text"
      },
      "cell_type": "markdown",
      "source": [
        "### Initial data: The closest in cluster"
      ]
    },
    {
      "metadata": {
        "id": "LyyG3pdrmvAd",
        "colab_type": "code",
        "colab": {}
      },
      "cell_type": "code",
      "source": [
        "initial_data_closest = the_closest_in_cluster(x_train, initial_data_size=1000, nb_of_classes=10)"
      ],
      "execution_count": 0,
      "outputs": []
    },
    {
      "metadata": {
        "id": "dAbGPpV8mvAf",
        "colab_type": "text"
      },
      "cell_type": "markdown",
      "source": [
        "#### Train"
      ]
    },
    {
      "metadata": {
        "id": "kmNzMUITmvAf",
        "colab_type": "code",
        "colab": {}
      },
      "cell_type": "code",
      "source": [
        "res21_cifar10 = train(build_model_cifar10, X, Y, picker_simple, initial_data_closest,\n",
        "                      metrices_names, model_name=\"res21_cifar10\", steps=10)"
      ],
      "execution_count": 0,
      "outputs": []
    },
    {
      "metadata": {
        "id": "AWjHjlulmvAh",
        "colab_type": "code",
        "colab": {}
      },
      "cell_type": "code",
      "source": [
        "res22_cifar10 = train(build_model_cifar10, X, Y, picker_max_min, initial_data_closest,\n",
        "                      metrices_names, model_name=\"res22_cifar10\", steps=10)"
      ],
      "execution_count": 0,
      "outputs": []
    },
    {
      "metadata": {
        "id": "ugLSRkRJmvAi",
        "colab_type": "code",
        "colab": {}
      },
      "cell_type": "code",
      "source": [
        "res23_cifar10 = train(build_model_cifar10, X, Y, picker_margin, initial_data_closest,\n",
        "                      metrices_names, model_name=\"res23_cifar10\", steps=10)"
      ],
      "execution_count": 0,
      "outputs": []
    },
    {
      "metadata": {
        "id": "kYLEvzcOmvAm",
        "colab_type": "code",
        "colab": {}
      },
      "cell_type": "code",
      "source": [
        "res24_cifar10 = train(build_model_cifar10, X, Y, picker_entropy, initial_data_closest,\n",
        "                      metrices_names, model_name=\"res24_cifar10\", steps=10)"
      ],
      "execution_count": 0,
      "outputs": []
    },
    {
      "metadata": {
        "id": "hJbGinsDmvAo",
        "colab_type": "code",
        "colab": {}
      },
      "cell_type": "code",
      "source": [
        "res25_cifar10 = train(build_model_cifar10, X, Y, picker_ensemble, initial_data_closest,\n",
        "                      metrices_names, model_name=\"res25_cifar10\", steps=10, is_ensemble=True)"
      ],
      "execution_count": 0,
      "outputs": []
    },
    {
      "metadata": {
        "id": "kwUgQTt-mvAo",
        "colab_type": "code",
        "colab": {}
      },
      "cell_type": "code",
      "source": [
        "res26_cifar10 = train(build_model_cifar10, X, Y, picker_ensemble, initial_data_closest,\n",
        "                      metrices_names, model_name=\"res26_cifar10\", steps=10)"
      ],
      "execution_count": 0,
      "outputs": []
    },
    {
      "metadata": {
        "id": "CSBRdxUTmvAq",
        "colab_type": "text"
      },
      "cell_type": "markdown",
      "source": [
        "#### Join plot"
      ]
    },
    {
      "metadata": {
        "id": "XLtI3XGfmvAq",
        "colab_type": "code",
        "colab": {}
      },
      "cell_type": "code",
      "source": [
        "results2_cifar10 = {\n",
        "    \"random\": res21_cifar10,\n",
        "    \"max_mix\": res22_cifar10,\n",
        "    \"margin\": res23_cifar10,\n",
        "    \"entropy\": res24_cifar10,\n",
        "    \"ensemble\": res25_cifar10\n",
        "}"
      ],
      "execution_count": 0,
      "outputs": []
    },
    {
      "metadata": {
        "id": "838FqLZhmvAu",
        "colab_type": "code",
        "colab": {}
      },
      "cell_type": "code",
      "source": [
        "create_plot(n_cols=3, steps=10, interval=x_train.shape[0]/10, metrices_names=metrices_names, **results2_cifar10)"
      ],
      "execution_count": 0,
      "outputs": []
    },
    {
      "metadata": {
        "id": "66RN2eGSmvAv",
        "colab_type": "text"
      },
      "cell_type": "markdown",
      "source": [
        "### Initial data: The furthest in cluster"
      ]
    },
    {
      "metadata": {
        "id": "z90XFVdZmvAw",
        "colab_type": "code",
        "colab": {}
      },
      "cell_type": "code",
      "source": [
        "initial_data_furthest = the_furthest_in_cluster(x_train, initial_data_size=1000, nb_of_classes=10)"
      ],
      "execution_count": 0,
      "outputs": []
    },
    {
      "metadata": {
        "id": "ldcySKtnmvAx",
        "colab_type": "text"
      },
      "cell_type": "markdown",
      "source": [
        "#### Train"
      ]
    },
    {
      "metadata": {
        "id": "iiW3pP2cmvAz",
        "colab_type": "code",
        "colab": {}
      },
      "cell_type": "code",
      "source": [
        "res31_cifar10 = train(build_model_cifar10, X, Y, picker_simple, initial_data_furthest,\n",
        "                      metrices_names, model_name=\"res31_cifar10\", steps=10)"
      ],
      "execution_count": 0,
      "outputs": []
    },
    {
      "metadata": {
        "id": "ooFY-dUYmvA0",
        "colab_type": "code",
        "colab": {}
      },
      "cell_type": "code",
      "source": [
        "res32_cifar10 = train(build_model_cifar10, X, Y, picker_max_min, initial_data_furthest,\n",
        "                      metrices_names, model_name=\"res32_cifar10\", steps=10)"
      ],
      "execution_count": 0,
      "outputs": []
    },
    {
      "metadata": {
        "id": "tTrjLDxqmvA4",
        "colab_type": "code",
        "colab": {}
      },
      "cell_type": "code",
      "source": [
        "res33_cifar10 = train(build_model_cifar10, X, Y, picker_margin, initial_data_furthest,\n",
        "                      metrices_names, model_name=\"res33_cifar10\", steps=10)"
      ],
      "execution_count": 0,
      "outputs": []
    },
    {
      "metadata": {
        "id": "-RscvLE_mvA5",
        "colab_type": "code",
        "colab": {}
      },
      "cell_type": "code",
      "source": [
        "res34_cifar10 = train(build_model_cifar10, X, Y, picker_entropy, initial_data_furthest,\n",
        "                      metrices_names, model_name=\"res34_cifar10\", steps=10)"
      ],
      "execution_count": 0,
      "outputs": []
    },
    {
      "metadata": {
        "id": "HBeDT-8cmvA7",
        "colab_type": "code",
        "colab": {}
      },
      "cell_type": "code",
      "source": [
        "res35_cifar10 = train(build_model_cifar10, X, Y, picker_ensemble, initial_data_furthest,\n",
        "                      metrices_names, model_name=\"res35_cifar10\", steps=10, is_ensemble=True)"
      ],
      "execution_count": 0,
      "outputs": []
    },
    {
      "metadata": {
        "id": "u05Lwd7ZmvA-",
        "colab_type": "code",
        "colab": {}
      },
      "cell_type": "code",
      "source": [
        "res36_cifar10 = train(build_model_cifar10, X, Y, picker_simple, initial_data_furthest,\n",
        "                      metrices_names, model_name=\"res36_cifar10\", steps=10)"
      ],
      "execution_count": 0,
      "outputs": []
    },
    {
      "metadata": {
        "id": "y3p8NecMmvBA",
        "colab_type": "text"
      },
      "cell_type": "markdown",
      "source": [
        "#### Join plot"
      ]
    },
    {
      "metadata": {
        "id": "BxXm_dK0mvBA",
        "colab_type": "code",
        "colab": {}
      },
      "cell_type": "code",
      "source": [
        "results3_cifar10 = {\n",
        "    \"random\": res31_cifar10,\n",
        "    \"max_mix\": res32_cifar10,\n",
        "    \"margin\": res33_cifar10,\n",
        "    \"entropy\": res34_cifar10,\n",
        "    \"ensemble\": res35_cifar10\n",
        "}"
      ],
      "execution_count": 0,
      "outputs": []
    },
    {
      "metadata": {
        "id": "RnF7ViKzmvBC",
        "colab_type": "code",
        "colab": {}
      },
      "cell_type": "code",
      "source": [
        "create_plot(n_cols=3, steps=10, interval=x_train.shape[0]/10, metrices_names=metrices_names, **results3_cifar10)"
      ],
      "execution_count": 0,
      "outputs": []
    },
    {
      "metadata": {
        "id": "599w_4SumvBD",
        "colab_type": "text"
      },
      "cell_type": "markdown",
      "source": [
        "### Initial data: Middle in cluster"
      ]
    },
    {
      "metadata": {
        "id": "XApYW5bumvBE",
        "colab_type": "code",
        "colab": {}
      },
      "cell_type": "code",
      "source": [
        "initial_data_middle = middle_in_cluster(x_train, initial_data_size=1000, nb_of_classes=10)"
      ],
      "execution_count": 0,
      "outputs": []
    },
    {
      "metadata": {
        "id": "F-xOnJJTmvBG",
        "colab_type": "text"
      },
      "cell_type": "markdown",
      "source": [
        "#### Train"
      ]
    },
    {
      "metadata": {
        "id": "SDZ3WGkOmvBG",
        "colab_type": "code",
        "colab": {}
      },
      "cell_type": "code",
      "source": [
        "res41_cifar10 = train(build_model_cifar10, X, Y, picker_simple, initial_data_middle,\n",
        "                      metrices_names, model_name=\"res41_cifar10\", steps=10)"
      ],
      "execution_count": 0,
      "outputs": []
    },
    {
      "metadata": {
        "id": "vJiHEIXumvBH",
        "colab_type": "code",
        "colab": {}
      },
      "cell_type": "code",
      "source": [
        "res42_cifar10 = train(build_model_cifar10, X, Y, picker_max_min, initial_data_middle,\n",
        "                      metrices_names, model_name=\"res42_cifar10\", steps=10)"
      ],
      "execution_count": 0,
      "outputs": []
    },
    {
      "metadata": {
        "id": "6d6LqfLWmvBJ",
        "colab_type": "code",
        "colab": {}
      },
      "cell_type": "code",
      "source": [
        "res43_cifar10 = train(build_model_cifar10, X, Y, picker_margin, initial_data_middle,\n",
        "                      metrices_names, model_name=\"res43_cifar10\", steps=10)"
      ],
      "execution_count": 0,
      "outputs": []
    },
    {
      "metadata": {
        "id": "41poM-gOmvBL",
        "colab_type": "code",
        "colab": {}
      },
      "cell_type": "code",
      "source": [
        "res44_cifar10 = train(build_model_cifar10, X, Y, picker_entropy, initial_data_middle,\n",
        "                      metrices_names, model_name=\"res44_cifar10\", steps=10)"
      ],
      "execution_count": 0,
      "outputs": []
    },
    {
      "metadata": {
        "id": "BEGcdPMdmvBM",
        "colab_type": "code",
        "colab": {}
      },
      "cell_type": "code",
      "source": [
        "res45_cifar10 = train(build_model_cifar10, X, Y, picker_ensemble, initial_data_middle,\n",
        "                      metrices_names, model_name=\"res45_cifar10\", steps=10, is_ensemble=True)"
      ],
      "execution_count": 0,
      "outputs": []
    },
    {
      "metadata": {
        "id": "a-NoKSormvBN",
        "colab_type": "code",
        "colab": {}
      },
      "cell_type": "code",
      "source": [
        "res46_cifar10 = train(build_model_cifar10, X, Y, picker_ensemble,\n",
        "                      metrices_names, model_name=\"res46_cifar10\", steps=10)"
      ],
      "execution_count": 0,
      "outputs": []
    },
    {
      "metadata": {
        "id": "bH1Ki0ZzmvBQ",
        "colab_type": "text"
      },
      "cell_type": "markdown",
      "source": [
        "#### Join plot"
      ]
    },
    {
      "metadata": {
        "id": "_hEilr1EmvBQ",
        "colab_type": "code",
        "colab": {}
      },
      "cell_type": "code",
      "source": [
        "results4_cifar10 = {\n",
        "    \"random\": res41_cifar10,\n",
        "    \"max_mix\": res42_cifar10,\n",
        "    \"margin\": res43_cifar10,\n",
        "    \"entropy\": res44_cifar10,\n",
        "    \"ensemble\": res45_cifar10\n",
        "}"
      ],
      "execution_count": 0,
      "outputs": []
    },
    {
      "metadata": {
        "id": "cvdyRBVemvBR",
        "colab_type": "code",
        "colab": {}
      },
      "cell_type": "code",
      "source": [
        "create_plot(n_cols=3, steps=10, interval=x_train.shape[0]/10, metrices_names=metrices_names, **results4_cifar10)"
      ],
      "execution_count": 0,
      "outputs": []
    },
    {
      "metadata": {
        "id": "12XF8T8lmvBS",
        "colab_type": "text"
      },
      "cell_type": "markdown",
      "source": [
        "# Cifar100"
      ]
    },
    {
      "metadata": {
        "id": "5ekEuS9tmvBT",
        "colab_type": "code",
        "colab": {}
      },
      "cell_type": "code",
      "source": [
        "from preprocessing_data import load_cifar100_data\n",
        "from models import build_model_cifar100"
      ],
      "execution_count": 0,
      "outputs": []
    },
    {
      "metadata": {
        "id": "-goHpMvTmvBU",
        "colab_type": "code",
        "colab": {}
      },
      "cell_type": "code",
      "source": [
        "(x_train, y_train),(x_test, y_test) = load_cifar100_data()"
      ],
      "execution_count": 0,
      "outputs": []
    },
    {
      "metadata": {
        "id": "-c4wohD8mvBV",
        "colab_type": "text"
      },
      "cell_type": "markdown",
      "source": [
        "### Applied model"
      ]
    },
    {
      "metadata": {
        "id": "LIwD1ELHmvBW",
        "colab_type": "code",
        "colab": {}
      },
      "cell_type": "code",
      "source": [
        "model = build_model_cifar100()\n",
        "model.fit(x=x_train,\n",
        "          y=y_train,\n",
        "          validation_data=[x_test, y_test],\n",
        "          callbacks=[PlotLossesKeras(max_cols=3)],\n",
        "          epochs=100,\n",
        "          batch_size=128\n",
        "         )"
      ],
      "execution_count": 0,
      "outputs": []
    },
    {
      "metadata": {
        "id": "UGT0o0IhmvBY",
        "colab_type": "text"
      },
      "cell_type": "markdown",
      "source": [
        "### Initial data: Random"
      ]
    },
    {
      "metadata": {
        "id": "tkuAIwo6mvBY",
        "colab_type": "code",
        "colab": {}
      },
      "cell_type": "code",
      "source": [
        "initial_data_random = random_strategy(x_train, initial_data_size=1000, nb_of_classes=10)"
      ],
      "execution_count": 0,
      "outputs": []
    },
    {
      "metadata": {
        "id": "jHLtxmHsmvBZ",
        "colab_type": "text"
      },
      "cell_type": "markdown",
      "source": [
        "#### Train"
      ]
    },
    {
      "metadata": {
        "id": "VO8IDHiymvBZ",
        "colab_type": "code",
        "colab": {}
      },
      "cell_type": "code",
      "source": [
        "cifar100_res1 = train(build_model_cifar100, X, Y, picker_simple, initial_data_random,\n",
        "                      metrices_names, model_name=\"cifar100_res1\", steps=10)"
      ],
      "execution_count": 0,
      "outputs": []
    },
    {
      "metadata": {
        "id": "vTMiErGLmvBc",
        "colab_type": "code",
        "colab": {}
      },
      "cell_type": "code",
      "source": [
        "cifar100_res2 = train(build_model_cifar100, X, Y, picker_max_min, initial_data_random,\n",
        "                      metrices_names, model_name=\"cifar100_res2\", steps=10)"
      ],
      "execution_count": 0,
      "outputs": []
    },
    {
      "metadata": {
        "id": "QkUjAWpvmvBj",
        "colab_type": "code",
        "colab": {}
      },
      "cell_type": "code",
      "source": [
        "cifar100_res3 = train(build_model_cifar100, X, Y, picker_margin, initial_data_random,\n",
        "                      metrices_names, model_name=\"cifar100_res3\", steps=10)"
      ],
      "execution_count": 0,
      "outputs": []
    },
    {
      "metadata": {
        "id": "lP5ENRENmvBj",
        "colab_type": "code",
        "colab": {}
      },
      "cell_type": "code",
      "source": [
        "cifar100_res4 = train(build_model_cifar100, X, Y, picker_entropy, initial_data_random,\n",
        "                      metrices_names, model_name=\"cifar100_res4\", steps=10)"
      ],
      "execution_count": 0,
      "outputs": []
    },
    {
      "metadata": {
        "id": "szPuDpSOmvBk",
        "colab_type": "code",
        "colab": {}
      },
      "cell_type": "code",
      "source": [
        "cifar100_res5 = train(build_model_cifar100, X, Y, picker_ensemble, initial_data_random,\n",
        "                      metrices_names, model_name=\"cifar100_res5\", steps=10, is_ensemble=True)"
      ],
      "execution_count": 0,
      "outputs": []
    },
    {
      "metadata": {
        "id": "m2qSYGMEmvBl",
        "colab_type": "text"
      },
      "cell_type": "markdown",
      "source": [
        "#### Join plot"
      ]
    },
    {
      "metadata": {
        "id": "Ehe6TMYsmvBl",
        "colab_type": "code",
        "colab": {}
      },
      "cell_type": "code",
      "source": [
        "results1_cifar100 = {\n",
        "    \"random\": res11_cifar100,\n",
        "    \"max_mix\": res12_cifar100,\n",
        "    \"margin\": res13_cifar100,\n",
        "    \"entropy\": res14_cifar100,\n",
        "    \"ensemble\": res15_cifar100\n",
        "}"
      ],
      "execution_count": 0,
      "outputs": []
    },
    {
      "metadata": {
        "id": "Gsg7QbDfmvBn",
        "colab_type": "code",
        "colab": {}
      },
      "cell_type": "code",
      "source": [
        "create_plot(n_cols=3, steps=10, interval=x_train.shape[0]/10, metrices_names=metrices_names, **results1_cifar100)"
      ],
      "execution_count": 0,
      "outputs": []
    }
  ]
}