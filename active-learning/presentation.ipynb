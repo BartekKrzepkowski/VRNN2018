{
 "cells": [
  {
   "cell_type": "code",
   "execution_count": null,
   "metadata": {},
   "outputs": [],
   "source": [
    "%load_ext autoreload\n",
    "%autoreload 2"
   ]
  },
  {
   "cell_type": "code",
   "execution_count": null,
   "metadata": {},
   "outputs": [],
   "source": [
    "from livelossplot import PlotLossesKeras\n",
    "from keras.callbacks import EarlyStopping, ModelCheckpoint"
   ]
  },
  {
   "cell_type": "code",
   "execution_count": null,
   "metadata": {},
   "outputs": [],
   "source": [
    "from pickers import picker_simple, picker_max_min, picker_margin, picker_entropy, picker_ensemble, picker_2max"
   ]
  },
  {
   "cell_type": "code",
   "execution_count": null,
   "metadata": {},
   "outputs": [],
   "source": [
    "from active_learning import train"
   ]
  },
  {
   "cell_type": "code",
   "execution_count": null,
   "metadata": {},
   "outputs": [],
   "source": [
    "from initial_data_strategy import random_strategy, the_closest_in_cluster, the_furthest_in_cluster, middle_in_cluster"
   ]
  },
  {
   "cell_type": "code",
   "execution_count": null,
   "metadata": {},
   "outputs": [],
   "source": [
    "from utils import create_plot"
   ]
  },
  {
   "cell_type": "code",
   "execution_count": null,
   "metadata": {},
   "outputs": [],
   "source": [
    "metrices_names = [\"Loss\", \"Accuracy\", \"Precission\", \"Recall\", \"F1\"]"
   ]
  },
  {
   "cell_type": "code",
   "execution_count": null,
   "metadata": {},
   "outputs": [],
   "source": [
    "callbacks=[\n",
    "    PlotLossesKeras(max_cols=3),\n",
    "    EarlyStopping(monitor=\"val_loss\", patience=3)\n",
    "]"
   ]
  },
  {
   "cell_type": "markdown",
   "metadata": {},
   "source": [
    "## Mnist"
   ]
  },
  {
   "cell_type": "code",
   "execution_count": null,
   "metadata": {},
   "outputs": [],
   "source": [
    "from preprocessing_data import load_mnist_data\n",
    "from models import build_model_mnist"
   ]
  },
  {
   "cell_type": "code",
   "execution_count": null,
   "metadata": {},
   "outputs": [],
   "source": [
    "#Get data\n",
    "(x_train, y_train),(x_test, y_test) = load_mnist_data()"
   ]
  },
  {
   "cell_type": "code",
   "execution_count": null,
   "metadata": {},
   "outputs": [],
   "source": [
    "X = (x_train, x_test)\n",
    "Y = (y_train, y_test)"
   ]
  },
  {
   "cell_type": "markdown",
   "metadata": {},
   "source": [
    "### Applied model"
   ]
  },
  {
   "cell_type": "code",
   "execution_count": null,
   "metadata": {},
   "outputs": [],
   "source": [
    "model = build_model_mnist()\n",
    "model.fit(x=x_train,\n",
    "          y=y_train,\n",
    "          validation_data=[x_test, y_test],\n",
    "          callbacks=callbacks,\n",
    "          epochs=20,\n",
    "          batch_size=128\n",
    "         )"
   ]
  },
  {
   "cell_type": "markdown",
   "metadata": {},
   "source": [
    "### Initial data: Random"
   ]
  },
  {
   "cell_type": "code",
   "execution_count": null,
   "metadata": {},
   "outputs": [],
   "source": [
    "initial_data_random = random_strategy(x_train, initial_data_size=1000, nb_of_classes=10)"
   ]
  },
  {
   "cell_type": "markdown",
   "metadata": {},
   "source": [
    "#### Train"
   ]
  },
  {
   "cell_type": "code",
   "execution_count": null,
   "metadata": {},
   "outputs": [],
   "source": [
    "res11_mnist = train(build_model_mnist, X, Y, picker_simple, initial_data_random,\n",
    "                    metrices_names, model_name=\"res11_mnist\", steps=10)"
   ]
  },
  {
   "cell_type": "code",
   "execution_count": null,
   "metadata": {},
   "outputs": [],
   "source": [
    "res12_mnist = train(build_model_mnist, X, Y, picker_max_min, initial_data_random,\n",
    "                    metrices_names, model_name=\"res12_mnist\", steps=10)"
   ]
  },
  {
   "cell_type": "code",
   "execution_count": null,
   "metadata": {},
   "outputs": [],
   "source": [
    "res13_mnist = train(build_model_mnist, X, Y, picker_margin, initial_data_random,\n",
    "                    metrices_names, model_name=\"res13_mnist\", steps=10)"
   ]
  },
  {
   "cell_type": "code",
   "execution_count": null,
   "metadata": {},
   "outputs": [],
   "source": [
    "res14_mnist = train(build_model_mnist, X, Y, picker_entropy, initial_data_random,\n",
    "                    metrices_names, model_name=\"res14_mnist\", steps=10)"
   ]
  },
  {
   "cell_type": "code",
   "execution_count": null,
   "metadata": {},
   "outputs": [],
   "source": [
    "res15_mnist = train(build_model_mnist, X, Y, picker_ensemble, initial_data_random,\n",
    "                    metrices_names, model_name=\"res15_mnist\", steps=10, is_ensemble=True)"
   ]
  },
  {
   "cell_type": "code",
   "execution_count": null,
   "metadata": {},
   "outputs": [],
   "source": [
    "res16_mnist = train(build_model_mnist, X, Y, picker_2max, initial_data_random,\n",
    "                    metrices_names, model_name=\"res16_mnist\", steps=10)"
   ]
  },
  {
   "cell_type": "markdown",
   "metadata": {},
   "source": [
    "#### Join plot"
   ]
  },
  {
   "cell_type": "code",
   "execution_count": null,
   "metadata": {},
   "outputs": [],
   "source": [
    "results1_mnist = {\n",
    "    \"random\": res11_mnist,\n",
    "    \"max_mix\": res12_mnist,\n",
    "    \"margin\": res13_mnist,\n",
    "    \"entropy\": res14_mnist,\n",
    "    \"ensemble\": res15_mnist\n",
    "}"
   ]
  },
  {
   "cell_type": "code",
   "execution_count": null,
   "metadata": {},
   "outputs": [],
   "source": [
    "create_plot(n_cols=3, steps=10, interval=x_train.shape[0]/10, metrices_names=metrices_names, **results1_mnist)"
   ]
  },
  {
   "cell_type": "markdown",
   "metadata": {},
   "source": [
    "### Initial data: The closest in cluster"
   ]
  },
  {
   "cell_type": "code",
   "execution_count": null,
   "metadata": {},
   "outputs": [],
   "source": [
    "initial_data_closest = the_closest_in_cluster(x_train, initial_data_size=1000, nb_of_classes=10)"
   ]
  },
  {
   "cell_type": "markdown",
   "metadata": {},
   "source": [
    "#### Train"
   ]
  },
  {
   "cell_type": "code",
   "execution_count": null,
   "metadata": {},
   "outputs": [],
   "source": [
    "res21_mnist = train(build_model_mnist, X, Y, picker_simple, initial_data_closest,\n",
    "                    metrices_names, model_name=\"res21_mnist\", steps=10)"
   ]
  },
  {
   "cell_type": "code",
   "execution_count": null,
   "metadata": {},
   "outputs": [],
   "source": [
    "res22_mnist = train(build_model_mnist, X, Y, picker_max_min, initial_data_closest,\n",
    "                    metrices_names, model_name=\"res22_mnist\", steps=10)"
   ]
  },
  {
   "cell_type": "code",
   "execution_count": null,
   "metadata": {},
   "outputs": [],
   "source": [
    "res23_mnist = train(build_model_mnist, X, Y, picker_margin, initial_data_closest,\n",
    "                    metrices_names, model_name=\"res23_mnist\", steps=10)"
   ]
  },
  {
   "cell_type": "code",
   "execution_count": null,
   "metadata": {},
   "outputs": [],
   "source": [
    "res24_mnist = train(build_model_mnist, X, Y, picker_entropy, initial_data_closest,\n",
    "                    metrices_names, model_name=\"res24_mnist\", steps=10)"
   ]
  },
  {
   "cell_type": "code",
   "execution_count": null,
   "metadata": {},
   "outputs": [],
   "source": [
    "res25_mnist = train(build_model_mnist, X, Y, picker_ensemble, initial_data_closest,\n",
    "                    metrices_names, model_name=\"res25_mnist\", steps=10, is_ensemble=True)"
   ]
  },
  {
   "cell_type": "code",
   "execution_count": null,
   "metadata": {},
   "outputs": [],
   "source": [
    "res26_mnist = train(build_model_mnist, X, Y, picker_2max, initial_data_closest,\n",
    "                    metrices_names, model_name=\"res26_mnist\", steps=10)"
   ]
  },
  {
   "cell_type": "markdown",
   "metadata": {},
   "source": [
    "#### Join plot"
   ]
  },
  {
   "cell_type": "code",
   "execution_count": null,
   "metadata": {},
   "outputs": [],
   "source": [
    "results2_mnist = {\n",
    "    \"random\": res21_mnist,\n",
    "    \"max_mix\": res22_mnist,\n",
    "    \"margin\": res23_mnist,\n",
    "    \"entropy\": res24_mnist,\n",
    "    \"ensemble\": res25_mnist\n",
    "}"
   ]
  },
  {
   "cell_type": "code",
   "execution_count": null,
   "metadata": {},
   "outputs": [],
   "source": [
    "create_plot(n_cols=3, steps=10, interval=x_train.shape[0]/10, metrices_names=metrices_names, **results2_mnist)"
   ]
  },
  {
   "cell_type": "markdown",
   "metadata": {},
   "source": [
    "### Initial data: The furthest in cluster"
   ]
  },
  {
   "cell_type": "code",
   "execution_count": null,
   "metadata": {},
   "outputs": [],
   "source": [
    "initial_data_furthest = the_furthest_in_cluster(x_train, initial_data_size=1000, nb_of_classes=10)"
   ]
  },
  {
   "cell_type": "markdown",
   "metadata": {},
   "source": [
    "#### Train"
   ]
  },
  {
   "cell_type": "code",
   "execution_count": null,
   "metadata": {},
   "outputs": [],
   "source": [
    "res31_mnist = train(build_model_mnist, X, Y, picker_simple, initial_data_furthest,\n",
    "                    metrices_names, model_name=\"res31_mnist\", steps=10)"
   ]
  },
  {
   "cell_type": "code",
   "execution_count": null,
   "metadata": {},
   "outputs": [],
   "source": [
    "res32_mnist = train(build_model_mnist, X, Y, picker_max_min, initial_data_furthest,\n",
    "                    metrices_names, model_name=\"res32_mnist\", steps=10)"
   ]
  },
  {
   "cell_type": "code",
   "execution_count": null,
   "metadata": {},
   "outputs": [],
   "source": [
    "res33_mnist = train(build_model_mnist, X, Y, picker_margin, initial_data_furthest,\n",
    "                    metrices_names, model_name=\"res33_mnist\", steps=10)"
   ]
  },
  {
   "cell_type": "code",
   "execution_count": null,
   "metadata": {},
   "outputs": [],
   "source": [
    "res34_mnist = train(build_model_mnist, X, Y, picker_entropy, initial_data_furthest,\n",
    "                    metrices_names, model_name=\"res34_mnist\", steps=10)"
   ]
  },
  {
   "cell_type": "code",
   "execution_count": null,
   "metadata": {},
   "outputs": [],
   "source": [
    "res35_mnist = train(build_model_mnist, X, Y, picker_ensemble, initial_data_furthest,\n",
    "                    metrices_names, model_name=\"res35_mnist\", steps=10, is_ensemble=True)"
   ]
  },
  {
   "cell_type": "code",
   "execution_count": null,
   "metadata": {},
   "outputs": [],
   "source": [
    "res36_mnist = train(build_model_mnist, X, Y, picker_2max, initial_data_furthest,\n",
    "                    metrices_names, model_name=\"res36_mnist\", steps=10)"
   ]
  },
  {
   "cell_type": "markdown",
   "metadata": {},
   "source": [
    "#### Join plot"
   ]
  },
  {
   "cell_type": "code",
   "execution_count": null,
   "metadata": {},
   "outputs": [],
   "source": [
    "results3_mnist = {\n",
    "    \"random\": res31_mnist,\n",
    "    \"max_mix\": res32_mnist,\n",
    "    \"margin\": res33_mnist,\n",
    "    \"entropy\": res34_mnist,\n",
    "    \"ensemble\": res35_mnist\n",
    "}"
   ]
  },
  {
   "cell_type": "code",
   "execution_count": null,
   "metadata": {},
   "outputs": [],
   "source": [
    "create_plot(n_cols=3, steps=10, interval=x_train.shape[0]/10, metrices_names=metrices_names, **results3_mnist)"
   ]
  },
  {
   "cell_type": "markdown",
   "metadata": {},
   "source": [
    "### Initial data: Middle in cluster"
   ]
  },
  {
   "cell_type": "code",
   "execution_count": null,
   "metadata": {},
   "outputs": [],
   "source": [
    "initial_data_middle = middle_in_cluster(x_train, initial_data_size=1000, nb_of_classes=10)"
   ]
  },
  {
   "cell_type": "markdown",
   "metadata": {},
   "source": [
    "#### Train"
   ]
  },
  {
   "cell_type": "code",
   "execution_count": null,
   "metadata": {},
   "outputs": [],
   "source": [
    "res41_mnist = train(build_model_mnist, X, Y, picker_simple, initial_data_middle,\n",
    "                    metrices_names, model_name=\"res41_mnist\", steps=10)"
   ]
  },
  {
   "cell_type": "code",
   "execution_count": null,
   "metadata": {},
   "outputs": [],
   "source": [
    "res42_mnist = train(build_model_mnist, X, Y, picker_max_min, initial_data_middle,\n",
    "                    metrices_names, model_name=\"res42_mnist\", steps=10)"
   ]
  },
  {
   "cell_type": "code",
   "execution_count": null,
   "metadata": {},
   "outputs": [],
   "source": [
    "res43_mnist = train(build_model_mnist, X, Y, picker_margin, initial_data_middle,\n",
    "                    metrices_names, model_name=\"res43_mnist\", steps=10)"
   ]
  },
  {
   "cell_type": "code",
   "execution_count": null,
   "metadata": {},
   "outputs": [],
   "source": [
    "res44_mnist = train(build_model_mnist, X, Y, picker_entropy, initial_data_middle,\n",
    "                    metrices_names, model_name=\"res44_mnist\", steps=10)"
   ]
  },
  {
   "cell_type": "code",
   "execution_count": null,
   "metadata": {},
   "outputs": [],
   "source": [
    "res45_mnist = train(build_model_mnist, X, Y, picker_ensemble, initial_data_middle,\n",
    "                    metrices_names, model_name=\"res45_mnist\", steps=10, is_ensemble=True)"
   ]
  },
  {
   "cell_type": "code",
   "execution_count": null,
   "metadata": {},
   "outputs": [],
   "source": [
    "res46_mnist = train(build_model_mnist, X, Y, picker_2max, initial_data_middle,\n",
    "                    metrices_names, model_name=\"res46_mnist\", steps=10)"
   ]
  },
  {
   "cell_type": "markdown",
   "metadata": {},
   "source": [
    "#### Join plot"
   ]
  },
  {
   "cell_type": "code",
   "execution_count": null,
   "metadata": {},
   "outputs": [],
   "source": [
    "results4_mnist = {\n",
    "    \"random\": res41_mnist,\n",
    "    \"max_mix\": res42_mnist,\n",
    "    \"margin\": res43_mnist,\n",
    "    \"entropy\": res44_mnist,\n",
    "    \"ensemble\": res45_mnist\n",
    "}"
   ]
  },
  {
   "cell_type": "code",
   "execution_count": null,
   "metadata": {},
   "outputs": [],
   "source": [
    "create_plot(n_cols=3, steps=10, interval=x_train.shape[0]/10, metrices_names=metrices_names, **results4_mnist)"
   ]
  },
  {
   "cell_type": "markdown",
   "metadata": {},
   "source": [
    "## Fashion Mnist"
   ]
  },
  {
   "cell_type": "code",
   "execution_count": null,
   "metadata": {},
   "outputs": [],
   "source": [
    "from preprocessing_data import load_fashion_mnist_data\n",
    "from models import build_model_fashion_mnist"
   ]
  },
  {
   "cell_type": "code",
   "execution_count": null,
   "metadata": {},
   "outputs": [],
   "source": [
    "(x_train, y_train),(x_test, y_test) = load_fashion_mnist_data()"
   ]
  },
  {
   "cell_type": "code",
   "execution_count": null,
   "metadata": {},
   "outputs": [],
   "source": [
    "X = (x_train, x_test)\n",
    "Y = (y_train, y_test)"
   ]
  },
  {
   "cell_type": "markdown",
   "metadata": {},
   "source": [
    "### Applied model"
   ]
  },
  {
   "cell_type": "code",
   "execution_count": null,
   "metadata": {},
   "outputs": [],
   "source": [
    "model = build_model_fashion_mnist()\n",
    "model.fit(x=x_train,\n",
    "          y=y_train,\n",
    "          validation_data=[x_test, y_test],\n",
    "          callbacks=callbacks,\n",
    "          epochs=10,\n",
    "          batch_size=64\n",
    "         )"
   ]
  },
  {
   "cell_type": "markdown",
   "metadata": {},
   "source": [
    "### Initial data: Random"
   ]
  },
  {
   "cell_type": "code",
   "execution_count": null,
   "metadata": {},
   "outputs": [],
   "source": [
    "initial_data_random = random_strategy(x_train, initial_data_size=1000, nb_of_classes=10)"
   ]
  },
  {
   "cell_type": "markdown",
   "metadata": {},
   "source": [
    "#### Train"
   ]
  },
  {
   "cell_type": "code",
   "execution_count": null,
   "metadata": {},
   "outputs": [],
   "source": [
    "res11_fashion_mnist = train(build_model_fashion_mnist, X, Y, picker_simple, initial_data_random,\n",
    "                            metrices_names, model_name=\"res11_fashion_mnist\", steps=10)"
   ]
  },
  {
   "cell_type": "code",
   "execution_count": null,
   "metadata": {},
   "outputs": [],
   "source": [
    "res12_fashion_mnist = train(build_model_fashion_mnist, X, Y, picker_max_min, initial_data_random,\n",
    "                            metrices_names, model_name=\"res12_fashion_mnist\", steps=10)"
   ]
  },
  {
   "cell_type": "code",
   "execution_count": null,
   "metadata": {},
   "outputs": [],
   "source": [
    "res13_fashion_mnist = train(build_model_fashion_mnist, X, Y, picker_margin, initial_data_random,\n",
    "                            metrices_names, model_name=\"res13_fashion_mnist\", steps=10)"
   ]
  },
  {
   "cell_type": "code",
   "execution_count": null,
   "metadata": {},
   "outputs": [],
   "source": [
    "res14_fashion_mnist = train(build_model_fashion_mnist, X, Y, picker_entropy, initial_data_random,\n",
    "                            metrices_names, model_name=\"res14_fashion_mnist\", steps=10)"
   ]
  },
  {
   "cell_type": "code",
   "execution_count": null,
   "metadata": {},
   "outputs": [],
   "source": [
    "res15_fashion_mnist = train(build_model_fashion_mnist, X, Y, picker_ensemble, initial_data_random, metrices_names,\n",
    "                            metrices_names, model_name=\"res15_fashion_mnist\", steps=10, is_ensemble=True)"
   ]
  },
  {
   "cell_type": "markdown",
   "metadata": {},
   "source": [
    "#### Join plot"
   ]
  },
  {
   "cell_type": "code",
   "execution_count": null,
   "metadata": {},
   "outputs": [],
   "source": [
    "results1_fashion_mnist = {\n",
    "    \"random\": res11_fashion_mnist,\n",
    "    \"max_mix\": res12_fashion_mnist,\n",
    "    \"margin\": res13_fashion_mnist,\n",
    "    \"entropy\": res14_fashion_mnist,\n",
    "    \"ensemble\": res15_fashion_mnist\n",
    "}"
   ]
  },
  {
   "cell_type": "code",
   "execution_count": null,
   "metadata": {},
   "outputs": [],
   "source": [
    "create_plot(n_cols=3, steps=10, interval=x_train.shape[0]/10, metrices_names=metrices_names, **results1_fashion_mnist)"
   ]
  },
  {
   "cell_type": "markdown",
   "metadata": {},
   "source": [
    "### Initial data: The closest in cluster"
   ]
  },
  {
   "cell_type": "code",
   "execution_count": null,
   "metadata": {},
   "outputs": [],
   "source": [
    "initial_data_closest = the_closest_in_cluster(x_train, initial_data_size=1000, nb_of_classes=10)"
   ]
  },
  {
   "cell_type": "markdown",
   "metadata": {},
   "source": [
    "#### Train"
   ]
  },
  {
   "cell_type": "code",
   "execution_count": null,
   "metadata": {},
   "outputs": [],
   "source": [
    "res21_fashion_mnist = train(build_model_fashion_mnist, X, Y, picker_simple, initial_data_closest,\n",
    "                            metrices_names, model_name=\"res21_fashion_mnist\", steps=10)"
   ]
  },
  {
   "cell_type": "code",
   "execution_count": null,
   "metadata": {},
   "outputs": [],
   "source": [
    "res22_fashion_mnist = train(build_model_fashion_mnist, X, Y, picker_max_min, initial_data_closest,\n",
    "                            metrices_names, model_name=\"res22_fashion_mnist\", steps=10)"
   ]
  },
  {
   "cell_type": "code",
   "execution_count": null,
   "metadata": {},
   "outputs": [],
   "source": [
    "res23_fashion_mnist = train(build_model_fashion_mnist, X, Y, picker_margin, initial_data_closest,\n",
    "                            metrices_names, model_name=\"res23_fashion_mnist\", steps=10)"
   ]
  },
  {
   "cell_type": "code",
   "execution_count": null,
   "metadata": {},
   "outputs": [],
   "source": [
    "res24_fashion_mnist = train(build_model_fashion_mnist, X, Y, picker_entropy, initial_data_closest,\n",
    "                            metrices_names, model_name=\"res24_fashion_mnist\", steps=10)"
   ]
  },
  {
   "cell_type": "code",
   "execution_count": null,
   "metadata": {},
   "outputs": [],
   "source": [
    "res25_fashion_mnist = train(build_model_fashion_mnist, X, Y, picker_ensemble, initial_data_closest,\n",
    "                            metrices_names, model_name=\"res25_fashion_mnist\", steps=10, is_ensemble=True)"
   ]
  },
  {
   "cell_type": "markdown",
   "metadata": {},
   "source": [
    "#### Join plot"
   ]
  },
  {
   "cell_type": "code",
   "execution_count": null,
   "metadata": {},
   "outputs": [],
   "source": [
    "results2_fashion_mnist = {\n",
    "    \"random\": res21_fashion_mnist,\n",
    "    \"max_mix\": res22_fashion_mnist,\n",
    "    \"margin\": res23_fashion_mnist,\n",
    "    \"entropy\": res24_fashion_mnist,\n",
    "    \"ensemble\": res25_fashion_mnist\n",
    "}"
   ]
  },
  {
   "cell_type": "code",
   "execution_count": null,
   "metadata": {},
   "outputs": [],
   "source": [
    "create_plot(n_cols=3, steps=10, interval=x_train.shape[0]/10, metrices_names=metrices_names, **results2_fashion_mnist)"
   ]
  },
  {
   "cell_type": "markdown",
   "metadata": {},
   "source": [
    "### Initial data: The furthest in cluster"
   ]
  },
  {
   "cell_type": "code",
   "execution_count": null,
   "metadata": {},
   "outputs": [],
   "source": [
    "initial_data_furthest = the_furthest_in_cluster(x_train, initial_data_size=1000, nb_of_classes=10)"
   ]
  },
  {
   "cell_type": "markdown",
   "metadata": {},
   "source": [
    "#### Train"
   ]
  },
  {
   "cell_type": "code",
   "execution_count": null,
   "metadata": {},
   "outputs": [],
   "source": [
    "res31_fashion_mnist = train(build_model_fashion_mnist, X, Y, picker_simple, initial_data_furthest,\n",
    "                            metrices_names, model_name=\"res31_fashion_mnist\", steps=10)"
   ]
  },
  {
   "cell_type": "code",
   "execution_count": null,
   "metadata": {},
   "outputs": [],
   "source": [
    "res32_fashion_mnist = train(build_model_fashion_mnist, X, Y, picker_max_min, initial_data_furthest,\n",
    "                            metrices_names, model_name=\"res32_fashion_mnist\", steps=10)"
   ]
  },
  {
   "cell_type": "code",
   "execution_count": null,
   "metadata": {},
   "outputs": [],
   "source": [
    "res33_fashion_mnist = train(build_model_fashion_mnist, X, Y, picker_margin, initial_data_furthest,\n",
    "                            metrices_names, model_name=\"res33_fashion_mnist\", steps=10)"
   ]
  },
  {
   "cell_type": "code",
   "execution_count": null,
   "metadata": {},
   "outputs": [],
   "source": [
    "res34_fashion_mnist = train(build_model_fashion_mnist, X, Y, picker_entropy, initial_data_furthest,\n",
    "                            metrices_names, model_name=\"res34_fashion_mnist\", steps=10)"
   ]
  },
  {
   "cell_type": "code",
   "execution_count": null,
   "metadata": {},
   "outputs": [],
   "source": [
    "res35_fashion_mnist = train(build_model_fashion_mnist, X, Y, picker_ensemble, initial_data_furthest,\n",
    "                            metrices_names, model_name=\"res35_fashion_mnist\", steps=10, is_ensemble=True)"
   ]
  },
  {
   "cell_type": "code",
   "execution_count": null,
   "metadata": {},
   "outputs": [],
   "source": [
    "res36_fashion_mnist = train(build_model_fashion_mnist, X, Y, picker_simple, initial_data_furthest,\n",
    "                            metrices_names, model_name=\"res36_fashion_mnist\", steps=10)"
   ]
  },
  {
   "cell_type": "markdown",
   "metadata": {},
   "source": [
    "#### Join plot"
   ]
  },
  {
   "cell_type": "code",
   "execution_count": null,
   "metadata": {},
   "outputs": [],
   "source": [
    "results3_fashion_mnist = {\n",
    "    \"random\": res31_fashion_mnist,\n",
    "    \"max_mix\": res32_fashion_mnist,\n",
    "    \"margin\": res33_fashion_mnist,\n",
    "    \"entropy\": res34_fashion_mnist,\n",
    "    \"ensemble\": res35_fashion_mnist\n",
    "}"
   ]
  },
  {
   "cell_type": "code",
   "execution_count": null,
   "metadata": {},
   "outputs": [],
   "source": [
    "create_plot(n_cols=3, steps=10, interval=x_train.shape[0]/10, metrices_names=metrices_names, **results3_fashion_mnist)"
   ]
  },
  {
   "cell_type": "markdown",
   "metadata": {},
   "source": [
    "### Initial data: Middle in cluster"
   ]
  },
  {
   "cell_type": "code",
   "execution_count": null,
   "metadata": {},
   "outputs": [],
   "source": [
    "initial_data_middle = middle_in_cluster(x_train, initial_data_size=1000, nb_of_classes=10)"
   ]
  },
  {
   "cell_type": "markdown",
   "metadata": {},
   "source": [
    "#### Train"
   ]
  },
  {
   "cell_type": "code",
   "execution_count": null,
   "metadata": {},
   "outputs": [],
   "source": [
    "res41_fashion_mnist = train(build_model_fashion_mnist, X, Y, picker_simple, initial_data_middle,\n",
    "                            metrices_names, model_name=\"res41_fashion_mnist\", steps=10)"
   ]
  },
  {
   "cell_type": "code",
   "execution_count": null,
   "metadata": {},
   "outputs": [],
   "source": [
    "res42_fashion_mnist = train(build_model_fashion_mnist, X, Y, picker_max_min, initial_data_middle,\n",
    "                            metrices_names, model_name=\"res42_fashion_mnist\", steps=10)"
   ]
  },
  {
   "cell_type": "code",
   "execution_count": null,
   "metadata": {},
   "outputs": [],
   "source": [
    "res43_fashion_mnist = train(build_model_fashion_mnist, X, Y, picker_margin, initial_data_middle,\n",
    "                            metrices_names, model_name=\"res43_fashion_mnist\", steps=10)"
   ]
  },
  {
   "cell_type": "code",
   "execution_count": null,
   "metadata": {},
   "outputs": [],
   "source": [
    "res44_fashion_mnist = train(build_model_fashion_mnist, X, Y, picker_entropy, initial_data_middle,\n",
    "                            metrices_names, model_name=\"res44_fashion_mnist\", steps=10)"
   ]
  },
  {
   "cell_type": "code",
   "execution_count": null,
   "metadata": {},
   "outputs": [],
   "source": [
    "res45_fashion_mnist = train(build_model_fashion_mnist, X, Y, picker_ensemble, initial_data_middle,\n",
    "                            metrices_names, model_name=\"res45_fashion_mnist\", steps=10, is_ensemble=True)"
   ]
  },
  {
   "cell_type": "code",
   "execution_count": null,
   "metadata": {},
   "outputs": [],
   "source": [
    "res46_fashion_mnist = train(build_model_fashion_mnist, X, Y, picker_simple, initial_data_middle,\n",
    "                            metrices_names, model_name=\"res46_fashion_mnist\", steps=10)"
   ]
  },
  {
   "cell_type": "markdown",
   "metadata": {},
   "source": [
    "#### Join plot"
   ]
  },
  {
   "cell_type": "code",
   "execution_count": null,
   "metadata": {},
   "outputs": [],
   "source": [
    "results4_fashion_mnist = {\n",
    "    \"random\": res41_fashion_mnist,\n",
    "    \"max_mix\": res42_fashion_mnist,\n",
    "    \"margin\": res43_fashion_mnist,\n",
    "    \"entropy\": res44_fashion_mnist,\n",
    "    \"ensemble\": res45_fashion_mnist\n",
    "}"
   ]
  },
  {
   "cell_type": "code",
   "execution_count": null,
   "metadata": {},
   "outputs": [],
   "source": [
    "create_plot(n_cols=3, steps=10, interval=x_train.shape[0]/10, metrices_names=metrices_names, **results4_fashion_mnist)"
   ]
  },
  {
   "cell_type": "markdown",
   "metadata": {},
   "source": [
    "## Dogs vs Cats"
   ]
  },
  {
   "cell_type": "code",
   "execution_count": null,
   "metadata": {},
   "outputs": [],
   "source": [
    "from preprocessing_data import load_pets_data\n",
    "from models import build_model_pets"
   ]
  },
  {
   "cell_type": "code",
   "execution_count": null,
   "metadata": {},
   "outputs": [],
   "source": [
    "(x_train, y_train),(x_test, y_test) = load_pets_data()"
   ]
  },
  {
   "cell_type": "markdown",
   "metadata": {},
   "source": [
    "### Applied model"
   ]
  },
  {
   "cell_type": "code",
   "execution_count": null,
   "metadata": {},
   "outputs": [],
   "source": [
    "model = build_model_pets()\n",
    "model.fit(x=x_train,\n",
    "          y=y_train,\n",
    "          validation_data=[x_test, y_test],\n",
    "          callbacks=[PlotLossesKeras(max_cols=3)],\n",
    "          epochs=50,\n",
    "          batch_size=128\n",
    "         )"
   ]
  },
  {
   "cell_type": "markdown",
   "metadata": {},
   "source": [
    "### Initial data: Random"
   ]
  },
  {
   "cell_type": "code",
   "execution_count": null,
   "metadata": {},
   "outputs": [],
   "source": [
    "initial_data_random = random_strategy(x_train, initial_data_size=1000, nb_of_classes=10)"
   ]
  },
  {
   "cell_type": "markdown",
   "metadata": {},
   "source": [
    "#### Train"
   ]
  },
  {
   "cell_type": "code",
   "execution_count": null,
   "metadata": {},
   "outputs": [],
   "source": [
    "res11_pets = train(build_model_pets, X, Y, picker_simple, metrices_names, steps=10)"
   ]
  },
  {
   "cell_type": "code",
   "execution_count": null,
   "metadata": {},
   "outputs": [],
   "source": [
    "res12_pets = train(build_model_pets, X, Y, picker_max_min, metrices_names, steps=10)"
   ]
  },
  {
   "cell_type": "code",
   "execution_count": null,
   "metadata": {},
   "outputs": [],
   "source": [
    "res13_pets = train(build_model_pets, X, Y, picker_margin, metrices_names, steps=10)"
   ]
  },
  {
   "cell_type": "code",
   "execution_count": null,
   "metadata": {},
   "outputs": [],
   "source": [
    "res14_pets = train(build_model_pets, X, Y, picker_entropy, metrices_names, steps=10)"
   ]
  },
  {
   "cell_type": "code",
   "execution_count": null,
   "metadata": {},
   "outputs": [],
   "source": [
    "res15_pets = train(build_model_pets, X, Y, picker_ensemble, metrices_names, steps=10, is_ensemble=True)"
   ]
  },
  {
   "cell_type": "markdown",
   "metadata": {},
   "source": [
    "## Cifar10"
   ]
  },
  {
   "cell_type": "code",
   "execution_count": null,
   "metadata": {},
   "outputs": [],
   "source": [
    "from preprocessing_data import load_cifar10_data\n",
    "from models import build_model_cifar10"
   ]
  },
  {
   "cell_type": "code",
   "execution_count": null,
   "metadata": {},
   "outputs": [],
   "source": [
    "(x_train, y_train),(x_test, y_test) = load_cifar10_data()"
   ]
  },
  {
   "cell_type": "code",
   "execution_count": null,
   "metadata": {},
   "outputs": [],
   "source": [
    "X = (x_train, x_test)\n",
    "Y = (y_train, y_test)"
   ]
  },
  {
   "cell_type": "markdown",
   "metadata": {},
   "source": [
    "### Applied model"
   ]
  },
  {
   "cell_type": "code",
   "execution_count": null,
   "metadata": {},
   "outputs": [],
   "source": [
    "model = build_model_cifar10()\n",
    "model.fit(x=x_train,\n",
    "          y=y_train,\n",
    "          validation_data=[x_test, y_test],\n",
    "          callbacks=callbacks,\n",
    "          epochs=60,\n",
    "          batch_size=128\n",
    "         )"
   ]
  },
  {
   "cell_type": "markdown",
   "metadata": {},
   "source": [
    "### Initial data: Random"
   ]
  },
  {
   "cell_type": "code",
   "execution_count": null,
   "metadata": {},
   "outputs": [],
   "source": [
    "initial_data_random = random_strategy(x_train, initial_data_size=1000, nb_of_classes=10)"
   ]
  },
  {
   "cell_type": "markdown",
   "metadata": {},
   "source": [
    "#### Train"
   ]
  },
  {
   "cell_type": "code",
   "execution_count": null,
   "metadata": {},
   "outputs": [],
   "source": [
    "res11_cifar10 = train(build_model_cifar10, X, Y, picker_simple, initial_data_random,\n",
    "                      metrices_names, model_name=\"res11_cifar10\", steps=10)"
   ]
  },
  {
   "cell_type": "code",
   "execution_count": null,
   "metadata": {},
   "outputs": [],
   "source": [
    "res12_cifar10 = train(build_model_cifar10, X, Y, picker_max_min, initial_data_random,\n",
    "                      metrices_names, model_name=\"res12_cifar10\", steps=10)"
   ]
  },
  {
   "cell_type": "code",
   "execution_count": null,
   "metadata": {},
   "outputs": [],
   "source": [
    "res13_cifar10 = train(build_model_cifar10, X, Y, picker_margin, initial_data_random, \n",
    "                      metrices_names, model_name=\"res13_cifar10\", steps=10)"
   ]
  },
  {
   "cell_type": "code",
   "execution_count": null,
   "metadata": {},
   "outputs": [],
   "source": [
    "res14_cifar10 = train(build_model_cifar10, X, Y, picker_entropy, initial_data_random,\n",
    "                      metrices_names, model_name=\"res14_cifar10\", steps=10)"
   ]
  },
  {
   "cell_type": "code",
   "execution_count": null,
   "metadata": {},
   "outputs": [],
   "source": [
    "res15_cifar10 = train(build_model_cifar10, X, Y, picker_ensemble, initial_data_random,\n",
    "                      metrices_names, model_name=\"res15_cifar10\", steps=10, is_ensemble=True)"
   ]
  },
  {
   "cell_type": "code",
   "execution_count": null,
   "metadata": {},
   "outputs": [],
   "source": [
    "res16_cifar10 = train(build_model_cifar10, X, Y, picker_ensemble, initial_data_random,\n",
    "                      metrices_names, model_name=\"res16_cifar10\", steps=10)"
   ]
  },
  {
   "cell_type": "markdown",
   "metadata": {},
   "source": [
    "#### Join plot"
   ]
  },
  {
   "cell_type": "code",
   "execution_count": null,
   "metadata": {},
   "outputs": [],
   "source": [
    "results1_cifar10 = {\n",
    "    \"random\": res11_cifar10,\n",
    "    \"max_mix\": res12_cifar10,\n",
    "    \"margin\": res13_cifar10,\n",
    "    \"entropy\": res14_cifar10,\n",
    "    \"ensemble\": res15_cifar10\n",
    "}"
   ]
  },
  {
   "cell_type": "code",
   "execution_count": null,
   "metadata": {},
   "outputs": [],
   "source": [
    "create_plot(n_cols=3, steps=10, interval=x_train.shape[0]/10, metrices_names=metrices_names, **results1_cifar10)"
   ]
  },
  {
   "cell_type": "markdown",
   "metadata": {},
   "source": [
    "### Initial data: The closest in cluster"
   ]
  },
  {
   "cell_type": "code",
   "execution_count": null,
   "metadata": {},
   "outputs": [],
   "source": [
    "initial_data_closest = the_closest_in_cluster(x_train, initial_data_size=1000, nb_of_classes=10)"
   ]
  },
  {
   "cell_type": "markdown",
   "metadata": {},
   "source": [
    "#### Train"
   ]
  },
  {
   "cell_type": "code",
   "execution_count": null,
   "metadata": {},
   "outputs": [],
   "source": [
    "res21_cifar10 = train(build_model_cifar10, X, Y, picker_simple, initial_data_closest,\n",
    "                      metrices_names, model_name=\"res21_cifar10\", steps=10)"
   ]
  },
  {
   "cell_type": "code",
   "execution_count": null,
   "metadata": {},
   "outputs": [],
   "source": [
    "res22_cifar10 = train(build_model_cifar10, X, Y, picker_max_min, initial_data_closest,\n",
    "                      metrices_names, model_name=\"res22_cifar10\", steps=10)"
   ]
  },
  {
   "cell_type": "code",
   "execution_count": null,
   "metadata": {},
   "outputs": [],
   "source": [
    "res23_cifar10 = train(build_model_cifar10, X, Y, picker_margin, initial_data_closest,\n",
    "                      metrices_names, model_name=\"res23_cifar10\", steps=10)"
   ]
  },
  {
   "cell_type": "code",
   "execution_count": null,
   "metadata": {},
   "outputs": [],
   "source": [
    "res24_cifar10 = train(build_model_cifar10, X, Y, picker_entropy, initial_data_closest,\n",
    "                      metrices_names, model_name=\"res24_cifar10\", steps=10)"
   ]
  },
  {
   "cell_type": "code",
   "execution_count": null,
   "metadata": {},
   "outputs": [],
   "source": [
    "res25_cifar10 = train(build_model_cifar10, X, Y, picker_ensemble, initial_data_closest,\n",
    "                      metrices_names, model_name=\"res25_cifar10\", steps=10, is_ensemble=True)"
   ]
  },
  {
   "cell_type": "code",
   "execution_count": null,
   "metadata": {},
   "outputs": [],
   "source": [
    "res26_cifar10 = train(build_model_cifar10, X, Y, picker_ensemble, initial_data_closest,\n",
    "                      metrices_names, model_name=\"res26_cifar10\", steps=10)"
   ]
  },
  {
   "cell_type": "markdown",
   "metadata": {},
   "source": [
    "#### Join plot"
   ]
  },
  {
   "cell_type": "code",
   "execution_count": null,
   "metadata": {},
   "outputs": [],
   "source": [
    "results2_cifar10 = {\n",
    "    \"random\": res21_cifar10,\n",
    "    \"max_mix\": res22_cifar10,\n",
    "    \"margin\": res23_cifar10,\n",
    "    \"entropy\": res24_cifar10,\n",
    "    \"ensemble\": res25_cifar10\n",
    "}"
   ]
  },
  {
   "cell_type": "code",
   "execution_count": null,
   "metadata": {},
   "outputs": [],
   "source": [
    "create_plot(n_cols=3, steps=10, interval=x_train.shape[0]/10, metrices_names=metrices_names, **results2_cifar10)"
   ]
  },
  {
   "cell_type": "markdown",
   "metadata": {},
   "source": [
    "### Initial data: The furthest in cluster"
   ]
  },
  {
   "cell_type": "code",
   "execution_count": null,
   "metadata": {},
   "outputs": [],
   "source": [
    "initial_data_furthest = the_furthest_in_cluster(x_train, initial_data_size=1000, nb_of_classes=10)"
   ]
  },
  {
   "cell_type": "markdown",
   "metadata": {},
   "source": [
    "#### Train"
   ]
  },
  {
   "cell_type": "code",
   "execution_count": null,
   "metadata": {},
   "outputs": [],
   "source": [
    "res31_cifar10 = train(build_model_cifar10, X, Y, picker_simple, initial_data_furthest,\n",
    "                      metrices_names, model_name=\"res31_cifar10\", steps=10)"
   ]
  },
  {
   "cell_type": "code",
   "execution_count": null,
   "metadata": {},
   "outputs": [],
   "source": [
    "res32_cifar10 = train(build_model_cifar10, X, Y, picker_max_min, initial_data_furthest,\n",
    "                      metrices_names, model_name=\"res32_cifar10\", steps=10)"
   ]
  },
  {
   "cell_type": "code",
   "execution_count": null,
   "metadata": {},
   "outputs": [],
   "source": [
    "res33_cifar10 = train(build_model_cifar10, X, Y, picker_margin, initial_data_furthest,\n",
    "                      metrices_names, model_name=\"res33_cifar10\", steps=10)"
   ]
  },
  {
   "cell_type": "code",
   "execution_count": null,
   "metadata": {},
   "outputs": [],
   "source": [
    "res34_cifar10 = train(build_model_cifar10, X, Y, picker_entropy, initial_data_furthest,\n",
    "                      metrices_names, model_name=\"res34_cifar10\", steps=10)"
   ]
  },
  {
   "cell_type": "code",
   "execution_count": null,
   "metadata": {},
   "outputs": [],
   "source": [
    "res35_cifar10 = train(build_model_cifar10, X, Y, picker_ensemble, initial_data_furthest,\n",
    "                      metrices_names, model_name=\"res35_cifar10\", steps=10, is_ensemble=True)"
   ]
  },
  {
   "cell_type": "code",
   "execution_count": null,
   "metadata": {},
   "outputs": [],
   "source": [
    "res36_cifar10 = train(build_model_cifar10, X, Y, picker_simple, initial_data_furthest,\n",
    "                      metrices_names, model_name=\"res36_cifar10\", steps=10)"
   ]
  },
  {
   "cell_type": "markdown",
   "metadata": {},
   "source": [
    "#### Join plot"
   ]
  },
  {
   "cell_type": "code",
   "execution_count": null,
   "metadata": {},
   "outputs": [],
   "source": [
    "results3_cifar10 = {\n",
    "    \"random\": res31_cifar10,\n",
    "    \"max_mix\": res32_cifar10,\n",
    "    \"margin\": res33_cifar10,\n",
    "    \"entropy\": res34_cifar10,\n",
    "    \"ensemble\": res35_cifar10\n",
    "}"
   ]
  },
  {
   "cell_type": "code",
   "execution_count": null,
   "metadata": {},
   "outputs": [],
   "source": [
    "create_plot(n_cols=3, steps=10, interval=x_train.shape[0]/10, metrices_names=metrices_names, **results3_cifar10)"
   ]
  },
  {
   "cell_type": "markdown",
   "metadata": {},
   "source": [
    "### Initial data: Middle in cluster"
   ]
  },
  {
   "cell_type": "code",
   "execution_count": null,
   "metadata": {},
   "outputs": [],
   "source": [
    "initial_data_middle = middle_in_cluster(x_train, initial_data_size=1000, nb_of_classes=10)"
   ]
  },
  {
   "cell_type": "markdown",
   "metadata": {},
   "source": [
    "#### Train"
   ]
  },
  {
   "cell_type": "code",
   "execution_count": null,
   "metadata": {},
   "outputs": [],
   "source": [
    "res41_cifar10 = train(build_model_cifar10, X, Y, picker_simple, initial_data_middle,\n",
    "                      metrices_names, model_name=\"res41_cifar10\", steps=10)"
   ]
  },
  {
   "cell_type": "code",
   "execution_count": null,
   "metadata": {},
   "outputs": [],
   "source": [
    "res42_cifar10 = train(build_model_cifar10, X, Y, picker_max_min, initial_data_middle,\n",
    "                      metrices_names, model_name=\"res42_cifar10\", steps=10)"
   ]
  },
  {
   "cell_type": "code",
   "execution_count": null,
   "metadata": {},
   "outputs": [],
   "source": [
    "res43_cifar10 = train(build_model_cifar10, X, Y, picker_margin, initial_data_middle,\n",
    "                      metrices_names, model_name=\"res43_cifar10\", steps=10)"
   ]
  },
  {
   "cell_type": "code",
   "execution_count": null,
   "metadata": {},
   "outputs": [],
   "source": [
    "res44_cifar10 = train(build_model_cifar10, X, Y, picker_entropy, initial_data_middle,\n",
    "                      metrices_names, model_name=\"res44_cifar10\", steps=10)"
   ]
  },
  {
   "cell_type": "code",
   "execution_count": null,
   "metadata": {},
   "outputs": [],
   "source": [
    "res45_cifar10 = train(build_model_cifar10, X, Y, picker_ensemble, initial_data_middle,\n",
    "                      metrices_names, model_name=\"res45_cifar10\", steps=10, is_ensemble=True)"
   ]
  },
  {
   "cell_type": "code",
   "execution_count": null,
   "metadata": {},
   "outputs": [],
   "source": [
    "res46_cifar10 = train(build_model_cifar10, X, Y, picker_ensemble,\n",
    "                      metrices_names, model_name=\"res46_cifar10\", steps=10)"
   ]
  },
  {
   "cell_type": "markdown",
   "metadata": {},
   "source": [
    "#### Join plot"
   ]
  },
  {
   "cell_type": "code",
   "execution_count": null,
   "metadata": {},
   "outputs": [],
   "source": [
    "results4_cifar10 = {\n",
    "    \"random\": res41_cifar10,\n",
    "    \"max_mix\": res42_cifar10,\n",
    "    \"margin\": res43_cifar10,\n",
    "    \"entropy\": res44_cifar10,\n",
    "    \"ensemble\": res45_cifar10\n",
    "}"
   ]
  },
  {
   "cell_type": "code",
   "execution_count": null,
   "metadata": {},
   "outputs": [],
   "source": [
    "create_plot(n_cols=3, steps=10, interval=x_train.shape[0]/10, metrices_names=metrices_names, **results4_cifar10)"
   ]
  },
  {
   "cell_type": "markdown",
   "metadata": {},
   "source": [
    "## Cifar100"
   ]
  },
  {
   "cell_type": "code",
   "execution_count": null,
   "metadata": {},
   "outputs": [],
   "source": [
    "from preprocessing_data import load_cifar100_data\n",
    "from models import build_model_cifar100"
   ]
  },
  {
   "cell_type": "code",
   "execution_count": null,
   "metadata": {},
   "outputs": [],
   "source": [
    "(x_train, y_train),(x_test, y_test) = load_cifar100_data()"
   ]
  },
  {
   "cell_type": "markdown",
   "metadata": {},
   "source": [
    "### Applied model"
   ]
  },
  {
   "cell_type": "code",
   "execution_count": null,
   "metadata": {},
   "outputs": [],
   "source": [
    "model = build_model_cifar100()\n",
    "model.fit(x=x_train,\n",
    "          y=y_train,\n",
    "          validation_data=[x_test, y_test],\n",
    "          callbacks=[PlotLossesKeras(max_cols=3)],\n",
    "          epochs=100,\n",
    "          batch_size=128\n",
    "         )"
   ]
  },
  {
   "cell_type": "markdown",
   "metadata": {},
   "source": [
    "### Initial data: Random"
   ]
  },
  {
   "cell_type": "code",
   "execution_count": null,
   "metadata": {},
   "outputs": [],
   "source": [
    "initial_data_random = random_strategy(x_train, initial_data_size=1000, nb_of_classes=10)"
   ]
  },
  {
   "cell_type": "markdown",
   "metadata": {},
   "source": [
    "#### Train"
   ]
  },
  {
   "cell_type": "code",
   "execution_count": null,
   "metadata": {},
   "outputs": [],
   "source": [
    "cifar100_res1 = train(build_model_cifar100, X, Y, picker_simple, initial_data_random,\n",
    "                      metrices_names, model_name=\"cifar100_res1\", steps=10)"
   ]
  },
  {
   "cell_type": "code",
   "execution_count": null,
   "metadata": {},
   "outputs": [],
   "source": [
    "cifar100_res2 = train(build_model_cifar100, X, Y, picker_max_min, initial_data_random,\n",
    "                      metrices_names, model_name=\"cifar100_res2\", steps=10)"
   ]
  },
  {
   "cell_type": "code",
   "execution_count": null,
   "metadata": {},
   "outputs": [],
   "source": [
    "cifar100_res3 = train(build_model_cifar100, X, Y, picker_margin, initial_data_random,\n",
    "                      metrices_names, model_name=\"cifar100_res3\", steps=10)"
   ]
  },
  {
   "cell_type": "code",
   "execution_count": null,
   "metadata": {},
   "outputs": [],
   "source": [
    "cifar100_res4 = train(build_model_cifar100, X, Y, picker_entropy, initial_data_random,\n",
    "                      metrices_names, model_name=\"cifar100_res4\", steps=10)"
   ]
  },
  {
   "cell_type": "code",
   "execution_count": null,
   "metadata": {},
   "outputs": [],
   "source": [
    "cifar100_res5 = train(build_model_cifar100, X, Y, picker_ensemble, initial_data_random,\n",
    "                      metrices_names, model_name=\"cifar100_res5\", steps=10, is_ensemble=True)"
   ]
  },
  {
   "cell_type": "markdown",
   "metadata": {},
   "source": [
    "#### Join plot"
   ]
  },
  {
   "cell_type": "code",
   "execution_count": null,
   "metadata": {},
   "outputs": [],
   "source": [
    "results1_cifar100 = {\n",
    "    \"random\": res11_cifar100,\n",
    "    \"max_mix\": res12_cifar100,\n",
    "    \"margin\": res13_cifar100,\n",
    "    \"entropy\": res14_cifar100,\n",
    "    \"ensemble\": res15_cifar100\n",
    "}"
   ]
  },
  {
   "cell_type": "code",
   "execution_count": null,
   "metadata": {},
   "outputs": [],
   "source": [
    "create_plot(n_cols=3, steps=10, interval=x_train.shape[0]/10, metrices_names=metrices_names, **results1_cifar100)"
   ]
  }
 ],
 "metadata": {
  "kernelspec": {
   "display_name": "Python 3",
   "language": "python",
   "name": "python3"
  },
  "language_info": {
   "codemirror_mode": {
    "name": "ipython",
    "version": 3
   },
   "file_extension": ".py",
   "mimetype": "text/x-python",
   "name": "python",
   "nbconvert_exporter": "python",
   "pygments_lexer": "ipython3",
   "version": "3.5.2"
  }
 },
 "nbformat": 4,
 "nbformat_minor": 2
}
